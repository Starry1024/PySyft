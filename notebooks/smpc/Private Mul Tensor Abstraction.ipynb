{
 "cells": [
  {
   "cell_type": "code",
   "execution_count": 1,
   "id": "67c2d127-c955-4313-b7d2-c584f037f85b",
   "metadata": {},
   "outputs": [],
   "source": [
    "import syft as sy\n",
    "sy.logger.remove()\n",
    "import numpy as np\n",
    "data = sy.Tensor(np.array([1,2,3],dtype=np.int32))"
   ]
  },
  {
   "cell_type": "code",
   "execution_count": 2,
   "id": "aa74bb27-e8aa-404b-a32f-cdff0c36390b",
   "metadata": {},
   "outputs": [
    {
     "name": "stdout",
     "output_type": "stream",
     "text": [
      "Connecting to http://localhost:8081... done! \t Logging into eloquent_he... done!\n",
      "Connecting to http://localhost:8082... done! \t Logging into gifted_larochelle... done!\n",
      "Connecting to http://localhost:8083... done! \t Logging into clever_kearns... done!\n"
     ]
    }
   ],
   "source": [
    "gryffindor = sy.login(email=\"info@openmined.org\",password=\"changethis\",port=\"8081\")\n",
    "slytherin =  sy.login(email=\"info@openmined.org\",password=\"changethis\",port=\"8082\")\n",
    "hufflepuff = sy.login(email=\"info@openmined.org\",password=\"changethis\",port=\"8083\")"
   ]
  },
  {
   "cell_type": "code",
   "execution_count": 3,
   "id": "c85840d0-a2d0-4988-94fc-5a233672aa81",
   "metadata": {},
   "outputs": [],
   "source": [
    "tensor_1 = data.send(gryffindor)\n",
    "tensor_2 = data.send(slytherin)\n",
    "tensor_3 = data.send(hufflepuff)"
   ]
  },
  {
   "cell_type": "markdown",
   "id": "10d307ac-ea31-46a4-8c4b-2789b38e41b6",
   "metadata": {},
   "source": [
    "During Private Multiplication , we require the parties to be able to communicate with each other.\n",
    "We make sure that our Actions are **Idempotent** and **Atomic** such that when a given action is not able to execute, it requeues itself to the back of the queue.\n",
    "\n",
    "We set a maximum amount of retries,until eventually failing, when one of the parties nodes are not able to send their intermediate results.\n",
    "\n",
    "We also create proxy clients with minimal permissions such that the parties are able to communicate with each other.\n"
   ]
  },
  {
   "cell_type": "code",
   "execution_count": 16,
   "id": "295c1af8-5d99-46dc-8129-c34229033e2f",
   "metadata": {},
   "outputs": [],
   "source": [
    "mpc_1 = tensor_1 * tensor_2"
   ]
  },
  {
   "cell_type": "code",
   "execution_count": 17,
   "id": "a66edd50-1810-4bcc-946e-bfc3c78cdf3b",
   "metadata": {},
   "outputs": [],
   "source": [
    "mpc_2 = tensor_1 * tensor_2"
   ]
  },
  {
   "cell_type": "code",
   "execution_count": 20,
   "id": "8902774c-d98d-47c3-a2ec-7f8257bf5e93",
   "metadata": {},
   "outputs": [
    {
     "data": {
      "text/plain": [
       "syft.core.tensor.smpc.mpc_tensor.MPCTensor"
      ]
     },
     "execution_count": 20,
     "metadata": {},
     "output_type": "execute_result"
    }
   ],
   "source": [
    "type(mpc_1)"
   ]
  },
  {
   "cell_type": "code",
   "execution_count": 21,
   "id": "80e1b3f6-07fa-43f2-affb-bf6cebb0fe38",
   "metadata": {},
   "outputs": [
    {
     "data": {
      "text/plain": [
       "syft.core.tensor.smpc.mpc_tensor.MPCTensor"
      ]
     },
     "execution_count": 21,
     "metadata": {},
     "output_type": "execute_result"
    }
   ],
   "source": [
    "type(mpc_2)"
   ]
  },
  {
   "cell_type": "code",
   "execution_count": 22,
   "id": "759c13bb-ad23-4a2b-94ff-fd659cd5b738",
   "metadata": {},
   "outputs": [],
   "source": [
    "mpc = mpc_1 * mpc_2"
   ]
  },
  {
   "cell_type": "code",
   "execution_count": 23,
   "id": "31dc6904-ebbf-4314-8986-0b7e85c7633d",
   "metadata": {},
   "outputs": [
    {
     "data": {
      "text/plain": [
       "array([ 1, 16, 81], dtype=int32)"
      ]
     },
     "execution_count": 23,
     "metadata": {},
     "output_type": "execute_result"
    }
   ],
   "source": [
    "mpc.block.get()"
   ]
  },
  {
   "cell_type": "code",
   "execution_count": 9,
   "id": "5fd152fd-a162-4995-b85c-3401b79744ef",
   "metadata": {},
   "outputs": [],
   "source": [
    "mpc_1 = tensor_1 * tensor_2\n",
    "mpc_2  = tensor_2 * tensor_3\n",
    "mpc = mpc_1 * mpc_2"
   ]
  },
  {
   "cell_type": "code",
   "execution_count": 10,
   "id": "0d70a8c8-327d-46e5-bc5b-945b7e3f6a78",
   "metadata": {},
   "outputs": [
    {
     "data": {
      "text/plain": [
       "MPCTensor.shape=(3,)\n",
       "\t .child[0] = <ShareTensorPointer -> eloquent_he:6047147e0a6ff084dcaf8d072b2d0051>\n",
       "\t .child[1] = <ShareTensorPointer -> gifted_larochelle:6047147e0a6ff084dcaf8d072b2d0051>"
      ]
     },
     "execution_count": 10,
     "metadata": {},
     "output_type": "execute_result"
    }
   ],
   "source": [
    "mpc_1"
   ]
  },
  {
   "cell_type": "code",
   "execution_count": 11,
   "id": "34739b30-1145-43ee-adf3-93f4eff5be3a",
   "metadata": {},
   "outputs": [
    {
     "data": {
      "text/plain": [
       "MPCTensor.shape=(3,)\n",
       "\t .child[0] = <ShareTensorPointer -> clever_kearns:2c923cad0197ec4eaa80b4eace034875>\n",
       "\t .child[1] = <ShareTensorPointer -> gifted_larochelle:2c923cad0197ec4eaa80b4eace034875>"
      ]
     },
     "execution_count": 11,
     "metadata": {},
     "output_type": "execute_result"
    }
   ],
   "source": [
    "mpc_2"
   ]
  },
  {
   "cell_type": "code",
   "execution_count": 13,
   "id": "c66bf59d-5aac-4c76-b389-b3a2377c2bf7",
   "metadata": {},
   "outputs": [
    {
     "data": {
      "text/plain": [
       "MPCTensor.shape=(3,)\n",
       "\t .child[0] = <ShareTensorPointer -> clever_kearns:781bce587b477f03b04f1c588b2a68bd>\n",
       "\t .child[1] = <ShareTensorPointer -> eloquent_he:781bce587b477f03b04f1c588b2a68bd>\n",
       "\t .child[2] = <ShareTensorPointer -> gifted_larochelle:781bce587b477f03b04f1c588b2a68bd>"
      ]
     },
     "execution_count": 13,
     "metadata": {},
     "output_type": "execute_result"
    }
   ],
   "source": [
    "mpc"
   ]
  },
  {
   "cell_type": "code",
   "execution_count": 14,
   "id": "06322e2c-bc06-4f97-89e8-db930dcd3384",
   "metadata": {},
   "outputs": [
    {
     "data": {
      "text/plain": [
       "array([ 1, 16, 81], dtype=int32)"
      ]
     },
     "execution_count": 14,
     "metadata": {},
     "output_type": "execute_result"
    }
   ],
   "source": [
    "mpc.block.reconstruct()"
   ]
  },
  {
   "cell_type": "code",
   "execution_count": null,
   "id": "b2256e74-5462-447a-96ac-3029fd8b2a2c",
   "metadata": {},
   "outputs": [],
   "source": []
  }
 ],
 "metadata": {
  "kernelspec": {
   "display_name": "Python 3 (ipykernel)",
   "language": "python",
   "name": "python3"
  },
  "language_info": {
   "codemirror_mode": {
    "name": "ipython",
    "version": 3
   },
   "file_extension": ".py",
   "mimetype": "text/x-python",
   "name": "python",
   "nbconvert_exporter": "python",
   "pygments_lexer": "ipython3",
   "version": "3.9.7"
  }
 },
 "nbformat": 4,
 "nbformat_minor": 5
}
