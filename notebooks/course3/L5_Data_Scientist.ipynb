{
 "cells": [
  {
   "cell_type": "markdown",
   "id": "1a49837a",
   "metadata": {},
   "source": [
    "(Ishan + Phil)\n",
    "\n",
    "#### Perform an Analysis on the Dataset from Lesson 4\n",
    "\n",
    "We're going to access a set of medical images (the NIH chest x-ray dataset) and perform some common\n",
    "data science operations."
   ]
  },
  {
   "cell_type": "code",
   "execution_count": null,
   "id": "e01d0573-872b-4aef-a44b-3060ee72fea9",
   "metadata": {},
   "outputs": [],
   "source": [
    "import syft as sy\n",
    "import numpy as np\n",
    "import matplotlib.pyplot as plt\n",
    "import os\n",
    "import pydicom\n",
    "import pandas as pd"
   ]
  },
  {
   "cell_type": "code",
   "execution_count": null,
   "id": "cf68123f",
   "metadata": {},
   "outputs": [],
   "source": [
    "# Let's login to your new domain\n",
    "# This assumes we have a local domain (as course users will)\n",
    "domain = sy.login(\n",
    "    url=\"http://localhost\",\n",
    "    email=\"info@openmined.org\",\n",
    "    password=\"changethis\",\n",
    "    port=8081\n",
    ")"
   ]
  },
  {
   "cell_type": "markdown",
   "id": "cda7529d-3d3c-495f-b960-5cf4073e9542",
   "metadata": {},
   "source": [
    "### Our dataset\n",
    "\n",
    "Let's take a second look at our image dataset. We'll:\n",
    "1. Visualize an image\n",
    "2. Check some label statistics (what is the ratio of positive cases in our sample?)\n",
    "3. Check key image properties (what are the pixel ranges and average pixel value in our sample?)"
   ]
  },
  {
   "cell_type": "code",
   "execution_count": null,
   "id": "f6069b3c-19b6-453d-86b7-8a3de0b3c037",
   "metadata": {},
   "outputs": [],
   "source": [
    "## this code would generate the dataset we're using below\n",
    "data = pd.read_csv(\"rsna chest demo set/sample_data.csv\")\n",
    "\n",
    "image_data = []\n",
    "label_data = []\n",
    "\n",
    "ROOT_PATH = \"rsna chest demo set/\"\n",
    "for idx in range(10):\n",
    "    img_path = data[\"patientId\"][idx] + \".dcm\"\n",
    "    label = data[\"Target\"][idx]\n",
    "    img_path = os.path.join(ROOT_PATH, img_path)\n",
    "    img = pydicom.dcmread(img_path)    \n",
    "    ## downsampling image for performance reasons\n",
    "    image_data.append(img.pixel_array[::8, ::8].astype(np.int32))\n",
    "    label_data.append(label)\n",
    "    \n",
    "# Let's convert the numpy array to tensors\n",
    "image_tensors = sy.Tensor(image_data)\n",
    "label_tensors = sy.Tensor(label_data)\n",
    "\n",
    "# Let's make the data private\n",
    "image_tensors = image_tensors.private(min_val=0, max_val=256, entities=[str(s) for s in range(image_tensors.shape[0])])\n",
    "label_tensors = label_tensors.private(min_val=0, max_val=1, entities=[str(s) for s in label_data])\n",
    "\n",
    "metadata = {\n",
    "    \"label_mapping\":label_mapping\n",
    "}\n",
    "\n",
    "domain.load_dataset(\n",
    "    assets={\"imageData\": image_tensors, \"labels\": label_tensors},\n",
    "    name=\"SIIM-ACR Pneumothorax Segmentation\",\n",
    "    description=\"Pneumothorax is usually diagnosed by a radiologist on a chest x-ray, and can sometimes be very difficult to confirm. An accurate AI algorithm to detect pneumothorax would be useful in a lot of clinical scenarios.\",\n",
    "    metadata=\"No metadata\",\n",
    ")"
   ]
  },
  {
   "cell_type": "markdown",
   "id": "bf546b5f-c310-498f-ad70-f8c22f4b7a64",
   "metadata": {},
   "source": [
    "#### Visualizing an image"
   ]
  },
  {
   "cell_type": "code",
   "execution_count": null,
   "id": "02b0b73b-63ae-437a-83d4-8ef9e23f31d5",
   "metadata": {},
   "outputs": [],
   "source": [
    "plt.imshow(image_data[1])"
   ]
  },
  {
   "cell_type": "markdown",
   "id": "551727d9-d3ed-4fe5-a400-39d4c43af890",
   "metadata": {},
   "source": [
    "#### Label stats"
   ]
  },
  {
   "cell_type": "code",
   "execution_count": null,
   "id": "3151d78a-a6c6-4b3b-b8a4-7d619482524e",
   "metadata": {},
   "outputs": [],
   "source": [
    "np.mean(label_data)"
   ]
  },
  {
   "cell_type": "markdown",
   "id": "b67684bd-de39-4166-96ae-63b5c26298d1",
   "metadata": {},
   "source": [
    "#### Image properties"
   ]
  },
  {
   "cell_type": "code",
   "execution_count": null,
   "id": "78496a88-1179-475f-9c8f-ed305dd02aaf",
   "metadata": {},
   "outputs": [],
   "source": [
    "np.mean(image_data), np.min(image_data), np.max(image_data)"
   ]
  },
  {
   "cell_type": "markdown",
   "id": "f8613475-9415-4afd-b479-5fb367058a0d",
   "metadata": {},
   "source": [
    "### List datasets on domain"
   ]
  },
  {
   "cell_type": "code",
   "execution_count": null,
   "id": "eb0a90ab-1b14-4ece-95ad-b5691fc1fca3",
   "metadata": {},
   "outputs": [],
   "source": [
    "domain.datasets[-1]"
   ]
  },
  {
   "cell_type": "markdown",
   "id": "2206ed4d-273c-47a6-b647-ba656aeb850f",
   "metadata": {},
   "source": [
    "### Access the dataset\n",
    "\n",
    "Here we select the dataset we want by index (although it's also possible to select it by Id)."
   ]
  },
  {
   "cell_type": "code",
   "execution_count": null,
   "id": "374f0ed2",
   "metadata": {},
   "outputs": [],
   "source": [
    "siim_images = domain.datasets[7][\"imageData\"]\n",
    "siim_labels = domain.datasets[7][\"labels\"]\n",
    "siim_images, siim_labels"
   ]
  },
  {
   "cell_type": "markdown",
   "id": "32b38b3b-543a-4da4-bff0-76e86a482e13",
   "metadata": {},
   "source": [
    "### Operations on private dataset\n",
    "\n",
    "Now we'll perform the same operations on our private dataset as we performed on the unobscured dataset above. Note that now we need to add `sigma` and explicitly request access to the data."
   ]
  },
  {
   "cell_type": "code",
   "execution_count": null,
   "id": "9000e55b-7d2a-4dbb-a58e-09bd04cc2382",
   "metadata": {},
   "outputs": [],
   "source": [
    "image = siim_images[0]\n",
    "published_result = image.publish(sigma=4)\n",
    "plt.imshow(published_result.get())"
   ]
  },
  {
   "cell_type": "code",
   "execution_count": null,
   "id": "e7f263ae-2514-417a-a00b-67134f3e0d8e",
   "metadata": {},
   "outputs": [],
   "source": [
    "positive_rate = siim_labels.mean()\n",
    "published_result = positive_rate.publish(sigma=10)\n",
    "published_result.get()"
   ]
  },
  {
   "cell_type": "code",
   "execution_count": null,
   "id": "384bdf1d-5241-4b58-b4c5-bbeafd7d7821",
   "metadata": {},
   "outputs": [],
   "source": [
    "max_image_pixel = siim_images.mean()\n",
    "published_result = max_image_pixel.publish(sigma=5)\n",
    "published_result.get()"
   ]
  }
 ],
 "metadata": {
  "kernelspec": {
   "display_name": "Python 3 (ipykernel)",
   "language": "python",
   "name": "python3"
  },
  "language_info": {
   "codemirror_mode": {
    "name": "ipython",
    "version": 3
   },
   "file_extension": ".py",
   "mimetype": "text/x-python",
   "name": "python",
   "nbconvert_exporter": "python",
   "pygments_lexer": "ipython3",
   "version": "3.9.7"
  }
 },
 "nbformat": 4,
 "nbformat_minor": 5
}
