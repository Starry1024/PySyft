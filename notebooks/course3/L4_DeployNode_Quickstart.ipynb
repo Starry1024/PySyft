{
 "cells": [
  {
   "cell_type": "markdown",
   "id": "725def8a-170f-4e9f-9d66-5643720ec4a9",
   "metadata": {},
   "source": [
    "++++++++++++++++++++++++++++++++++++++\n",
    "======================================\n",
    "(Ishan & Phil)\n",
    "\n",
    "<b> To Verify: </b>\n",
    "- That the branch that will be used for the course is dev?\n",
    "- That 8GB of RAM is still the recommended amt. for Docker?\n",
    "- If Hagrid needs to be installed this way, or if Course users can expect a `pip install hagrid` when the course rolls out? \n",
    "- Will they still be using info@openmined.org to login to their domain for the first time?\n",
    "\n",
    "++++++++++++++++++++++++++++++++++++++\n",
    "======================================"
   ]
  },
  {
   "cell_type": "markdown",
   "id": "d59252a1-05b1-485a-a338-8a3d2d6ade71",
   "metadata": {},
   "source": [
    "# Our Goal\n",
    "For those of you who are already familiar with Docker, Virtual Environments (such as <a href=\"https://conda.io\">conda</a>, <a href=\"https://docs.python.org/3/library/venv.html\">venv</a>, or <a href=\"https://github.com/pyenv/pyenv\">pyenv</a>), Version Control (such as <a href=\"https://github.com\">git</a>), here's how to get a local domain node up and running in 6 steps, and in only a few minutes."
   ]
  },
  {
   "cell_type": "markdown",
   "id": "480edc12-a236-4aba-999b-125aa6867a59",
   "metadata": {},
   "source": [
    "## Steps\n",
    "\n",
    "### <b>1. Clone the PySyft repository, fetch and checkout the dev branch: </b>"
   ]
  },
  {
   "cell_type": "code",
   "execution_count": null,
   "id": "eba29cc9-97f3-41cd-8a68-3b30a668517a",
   "metadata": {
    "tags": []
   },
   "outputs": [],
   "source": [
    "# Clone the repository and move inside it\n",
    "!git clone https://github.com/OpenMined/PySyft && cd PySyft"
   ]
  },
  {
   "cell_type": "code",
   "execution_count": null,
   "id": "a219b707-0153-4420-a871-14e736bc8463",
   "metadata": {},
   "outputs": [],
   "source": [
    "# Fetch any changes\n",
    "git fetch origin dev"
   ]
  },
  {
   "cell_type": "code",
   "execution_count": null,
   "id": "887d8288-c8cc-4704-b18c-17542416b9fb",
   "metadata": {},
   "outputs": [],
   "source": [
    "# Checkout the relevant branch <--- This may be the default branch after cloning the repo!\n",
    "git checkout dev"
   ]
  },
  {
   "cell_type": "markdown",
   "id": "0bf548ee-c08b-4b29-b0b7-6517404365a4",
   "metadata": {},
   "source": [
    "### <b>2. Launch <a href=\"https://www.docker.com/products/docker-desktop\">Docker Desktop</a>, and ensure it has atleast 8GB of RAM available. </b>\n"
   ]
  },
  {
   "cell_type": "markdown",
   "id": "efb0a50e-5325-4d3c-a46b-cdba9313c389",
   "metadata": {},
   "source": [
    "### <b>3. Create a Virtual Environment with Python 3.9<b>"
   ]
  },
  {
   "cell_type": "code",
   "execution_count": null,
   "id": "52056c87-5ba2-4d2f-b3c7-89520340bab6",
   "metadata": {},
   "outputs": [],
   "source": [
    "# Using Conda as an example\n",
    "!conda create -n lab python=3.9\n",
    "# Activate it:\n",
    "!conda activate lab"
   ]
  },
  {
   "cell_type": "markdown",
   "id": "e178ea4f-dee9-4f99-8ca9-8f12677a8bae",
   "metadata": {},
   "source": [
    "### <b>4. Install & Launch HAGrid</b>"
   ]
  },
  {
   "cell_type": "code",
   "execution_count": null,
   "id": "96c29e20-c395-4ac2-852c-823f62db4130",
   "metadata": {},
   "outputs": [],
   "source": [
    "# Move to the appropriate directory and install from local source\n",
    "!cd packages/hagrid && pip install -e .\n",
    "\n",
    "# Launch HAGrid!\n",
    "!hagrid launch <node_name>"
   ]
  },
  {
   "cell_type": "markdown",
   "id": "96722594-7633-418c-b265-de6dd6abaec8",
   "metadata": {},
   "source": [
    "### <b>5. Install & Launch Syft </b>"
   ]
  },
  {
   "cell_type": "code",
   "execution_count": null,
   "id": "bc48f74e-7476-429b-9538-d196c7ce2a5a",
   "metadata": {},
   "outputs": [],
   "source": [
    "# Install from source (PySyft/packages/syft)\n",
    "cd packages/syft && pip install -e ."
   ]
  },
  {
   "cell_type": "markdown",
   "id": "202a168d-3f62-4016-a3db-6c5e469d4f8d",
   "metadata": {},
   "source": [
    "### <b>6. Login to the Domain!</b>\n",
    "\n",
    "\n",
    "<i>Voila!</i> You now have a working domain node. To login, go to <b>localhost:\"port_number\"</b> in your browser (port_number is 8081 by default).\n",
    "\n",
    "The default username and password are as follows:\n",
    "\n",
    "- Username: <b> info@openmined.org </b>\n",
    "- PW: <b> changethis </b>"
   ]
  }
 ],
 "metadata": {
  "kernelspec": {
   "display_name": "Python 3 (ipykernel)",
   "language": "python",
   "name": "python3"
  },
  "language_info": {
   "codemirror_mode": {
    "name": "ipython",
    "version": 3
   },
   "file_extension": ".py",
   "mimetype": "text/x-python",
   "name": "python",
   "nbconvert_exporter": "python",
   "pygments_lexer": "ipython3",
   "version": "3.9.7"
  }
 },
 "nbformat": 4,
 "nbformat_minor": 5
}
