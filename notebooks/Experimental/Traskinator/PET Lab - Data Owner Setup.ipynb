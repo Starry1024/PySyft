{
 "cells": [
  {
   "cell_type": "code",
   "execution_count": 35,
   "id": "0518f7a5-cdbc-45c3-b3f0-93122911b4fe",
   "metadata": {},
   "outputs": [],
   "source": [
    "import syft as sy"
   ]
  },
  {
   "cell_type": "markdown",
   "id": "1f540d35-ef66-439c-8eea-488109250601",
   "metadata": {},
   "source": [
    "# Setup Network"
   ]
  },
  {
   "cell_type": "code",
   "execution_count": 36,
   "id": "0cefae7c-b459-4415-8052-807ed5cc0aa7",
   "metadata": {},
   "outputs": [
    {
     "name": "stdout",
     "output_type": "stream",
     "text": [
      "Connecting to http://13.64.14.221... done! \t Logging into united_nations_mock... done!\n"
     ]
    }
   ],
   "source": [
    "network = sy.login(email=\"info@openmined.org\", \n",
    "                   password=\"changethis\", \n",
    "                   url=\"http://13.64.14.221\", \n",
    "                   port=80)"
   ]
  },
  {
   "cell_type": "code",
   "execution_count": 42,
   "id": "af8a2ecb-1381-4868-b874-1e1f8795eabe",
   "metadata": {},
   "outputs": [
    {
     "name": "stdout",
     "output_type": "stream",
     "text": [
      "🔌 <NetworkClient: united_nations_mock> successfully connected to the VPN: http://13.64.14.221:80\n"
     ]
    }
   ],
   "source": [
    "network.join_network(\"http://13.64.14.221:80\")"
   ]
  },
  {
   "cell_type": "code",
   "execution_count": 58,
   "id": "dce33a78-29f7-4800-b753-5f8dbe2107e9",
   "metadata": {},
   "outputs": [
    {
     "data": {
      "text/plain": [
       "{'status': 'ok',\n",
       " 'connected': True,\n",
       " 'host': {'ip': '100.64.0.1',\n",
       "  'hostname': 'united_nations_mock',\n",
       "  'network': 'omnet',\n",
       "  'os': 'linux',\n",
       "  'connection_info': '-',\n",
       "  'connection_status': 'n/a',\n",
       "  'connection_type': 'n/a'},\n",
       " 'peers': []}"
      ]
     },
     "execution_count": 58,
     "metadata": {},
     "output_type": "execute_result"
    }
   ],
   "source": [
    "network.vpn_status()"
   ]
  },
  {
   "cell_type": "markdown",
   "id": "02b27b28-c284-4976-bcb4-ee7d8695bb70",
   "metadata": {},
   "source": [
    "# Domain Applies to Network"
   ]
  },
  {
   "cell_type": "code",
   "execution_count": 59,
   "id": "b19f092f-dadf-4000-8071-6a2095639273",
   "metadata": {},
   "outputs": [],
   "source": [
    "import syft as sy"
   ]
  },
  {
   "cell_type": "code",
   "execution_count": 60,
   "id": "82d12361-96e4-4d8d-ad04-0aeca5d81744",
   "metadata": {},
   "outputs": [
    {
     "name": "stdout",
     "output_type": "stream",
     "text": [
      "Connecting to http://localhost:8081... done! \t Logging into us_census_bureau... done!\n"
     ]
    }
   ],
   "source": [
    "domain = sy.login(email=\"info@openmined.org\", password=\"changethis\", port=8081)"
   ]
  },
  {
   "cell_type": "code",
   "execution_count": 61,
   "id": "dda9d370-2e39-4ed2-8449-2b01227cb9dc",
   "metadata": {},
   "outputs": [
    {
     "data": {
      "text/plain": [
       "{'status': 'ok', 'connected': False, 'host': {}, 'peers': []}"
      ]
     },
     "execution_count": 61,
     "metadata": {},
     "output_type": "execute_result"
    }
   ],
   "source": [
    "domain.vpn_status()"
   ]
  },
  {
   "cell_type": "code",
   "execution_count": 62,
   "id": "a6fa19d4-a9d4-430e-b45f-9fab979b06b6",
   "metadata": {},
   "outputs": [
    {
     "name": "stdout",
     "output_type": "stream",
     "text": [
      "Connecting to http://13.64.14.221... done! \t Logging into united_nations_mock... as GUEST...done!\n"
     ]
    }
   ],
   "source": [
    "petlab = sy.networks[1]"
   ]
  },
  {
   "cell_type": "code",
   "execution_count": 64,
   "id": "508f02ae-657f-430c-a704-c1bc7d0365bf",
   "metadata": {},
   "outputs": [],
   "source": [
    "domain.join_network(petlab)"
   ]
  },
  {
   "cell_type": "code",
   "execution_count": null,
   "id": "c4f76962-c1f7-4a7f-8b5c-88485e14f45e",
   "metadata": {},
   "outputs": [],
   "source": []
  },
  {
   "cell_type": "markdown",
   "id": "ef623b82-6de6-415e-ad23-fa3e5924c259",
   "metadata": {},
   "source": [
    "# Network Approves Domain"
   ]
  },
  {
   "cell_type": "code",
   "execution_count": 14,
   "id": "295fbcd9-cea2-4b98-85d3-3aae509a0159",
   "metadata": {},
   "outputs": [
    {
     "name": "stdout",
     "output_type": "stream",
     "text": [
      "Connecting to http://168.61.66.213... done! \t Logging into united_nations... done!\n"
     ]
    }
   ],
   "source": [
    "network = sy.login(email=\"info@openmined.org\", password=\"changethis\", url=\"http://168.61.66.213\", port=80)"
   ]
  },
  {
   "cell_type": "code",
   "execution_count": 15,
   "id": "0cc18bec-1b7d-40db-a1cb-ccb5f83cd0f4",
   "metadata": {},
   "outputs": [
    {
     "data": {
      "text/html": [
       "<div>\n",
       "<style scoped>\n",
       "    .dataframe tbody tr th:only-of-type {\n",
       "        vertical-align: middle;\n",
       "    }\n",
       "\n",
       "    .dataframe tbody tr th {\n",
       "        vertical-align: top;\n",
       "    }\n",
       "\n",
       "    .dataframe thead th {\n",
       "        text-align: right;\n",
       "    }\n",
       "</style>\n",
       "<table border=\"1\" class=\"dataframe\">\n",
       "  <thead>\n",
       "    <tr style=\"text-align: right;\">\n",
       "      <th></th>\n",
       "      <th>node_name</th>\n",
       "      <th>node_address</th>\n",
       "      <th>requested_date</th>\n",
       "      <th>email</th>\n",
       "      <th>reason</th>\n",
       "      <th>source</th>\n",
       "      <th>target</th>\n",
       "      <th>association_id</th>\n",
       "      <th>status</th>\n",
       "      <th>name</th>\n",
       "    </tr>\n",
       "  </thead>\n",
       "  <tbody>\n",
       "    <tr>\n",
       "      <th>0</th>\n",
       "      <td>us_census_bureau</td>\n",
       "      <td>32066f23d4854ee69064b5e2777e8733</td>\n",
       "      <td>10/29/2021</td>\n",
       "      <td></td>\n",
       "      <td></td>\n",
       "      <td>100.64.0.2</td>\n",
       "      <td>100.64.0.1</td>\n",
       "      <td>1</td>\n",
       "      <td>ACCEPTED</td>\n",
       "      <td></td>\n",
       "    </tr>\n",
       "    <tr>\n",
       "      <th>1</th>\n",
       "      <td>us_census_bureau</td>\n",
       "      <td>2cd961716e684914b53382460dc9e88c</td>\n",
       "      <td>10/29/2021</td>\n",
       "      <td></td>\n",
       "      <td></td>\n",
       "      <td>100.64.0.3</td>\n",
       "      <td>100.64.0.1</td>\n",
       "      <td>2</td>\n",
       "      <td>PENDING</td>\n",
       "      <td></td>\n",
       "    </tr>\n",
       "  </tbody>\n",
       "</table>\n",
       "</div>"
      ],
      "text/plain": [
       "          node_name                      node_address requested_date email  \\\n",
       "0  us_census_bureau  32066f23d4854ee69064b5e2777e8733     10/29/2021         \n",
       "1  us_census_bureau  2cd961716e684914b53382460dc9e88c     10/29/2021         \n",
       "\n",
       "  reason      source      target association_id    status name  \n",
       "0         100.64.0.2  100.64.0.1              1  ACCEPTED       \n",
       "1         100.64.0.3  100.64.0.1              2   PENDING       "
      ]
     },
     "execution_count": 15,
     "metadata": {},
     "output_type": "execute_result"
    }
   ],
   "source": [
    "network.association.pandas()"
   ]
  },
  {
   "cell_type": "code",
   "execution_count": 16,
   "id": "a299d54f-1378-48c1-8745-c9820cff336c",
   "metadata": {},
   "outputs": [
    {
     "data": {
      "text/plain": [
       "<SuccessResponseMessage: 6ef92855482b4c668ba308dc934338f6>"
      ]
     },
     "execution_count": 16,
     "metadata": {},
     "output_type": "execute_result"
    }
   ],
   "source": [
    "network.association[2].accept()"
   ]
  },
  {
   "cell_type": "code",
   "execution_count": 17,
   "id": "d18d00a8-9a2f-4693-a9f0-5344bf86078e",
   "metadata": {},
   "outputs": [
    {
     "data": {
      "text/html": [
       "<div>\n",
       "<style scoped>\n",
       "    .dataframe tbody tr th:only-of-type {\n",
       "        vertical-align: middle;\n",
       "    }\n",
       "\n",
       "    .dataframe tbody tr th {\n",
       "        vertical-align: top;\n",
       "    }\n",
       "\n",
       "    .dataframe thead th {\n",
       "        text-align: right;\n",
       "    }\n",
       "</style>\n",
       "<table border=\"1\" class=\"dataframe\">\n",
       "  <thead>\n",
       "    <tr style=\"text-align: right;\">\n",
       "      <th></th>\n",
       "      <th>host_or_ip</th>\n",
       "      <th>id</th>\n",
       "      <th>is_vpn</th>\n",
       "      <th>name</th>\n",
       "    </tr>\n",
       "  </thead>\n",
       "  <tbody>\n",
       "    <tr>\n",
       "      <th>0</th>\n",
       "      <td>100.64.0.2</td>\n",
       "      <td>32066f23d4854ee69064b5e2777e8733</td>\n",
       "      <td>1</td>\n",
       "      <td>us_census_bureau</td>\n",
       "    </tr>\n",
       "    <tr>\n",
       "      <th>1</th>\n",
       "      <td>100.64.0.3</td>\n",
       "      <td>2cd961716e684914b53382460dc9e88c</td>\n",
       "      <td>1</td>\n",
       "      <td>us_census_bureau</td>\n",
       "    </tr>\n",
       "  </tbody>\n",
       "</table>\n",
       "</div>"
      ],
      "text/plain": [
       "<syft.core.node.common.client_manager.domain_api.DomainRequestAPI at 0x7fb871974310>"
      ]
     },
     "execution_count": 17,
     "metadata": {},
     "output_type": "execute_result"
    }
   ],
   "source": [
    "network.domains"
   ]
  },
  {
   "cell_type": "markdown",
   "id": "e85fe01c-d81a-4896-92be-87737ddf2e51",
   "metadata": {},
   "source": [
    "# Domain Loads Dataset"
   ]
  },
  {
   "cell_type": "code",
   "execution_count": 21,
   "id": "91b1ce8a-5436-4290-b104-34b431f56020",
   "metadata": {},
   "outputs": [],
   "source": [
    "import syft as sy"
   ]
  },
  {
   "cell_type": "code",
   "execution_count": 28,
   "id": "ada4563e-71ab-426c-bbb5-e922f8ac7f32",
   "metadata": {},
   "outputs": [
    {
     "name": "stdout",
     "output_type": "stream",
     "text": [
      "Connecting to http://localhost:8082... done! \t Logging into statistics_canada... done!\n"
     ]
    }
   ],
   "source": [
    "# domain = sy.login(email=\"info@openmined.org\", password=\"changethis\", port=8081)\n",
    "domain = sy.login(email=\"info@openmined.org\", password=\"changethis\", port=8082)"
   ]
  },
  {
   "cell_type": "code",
   "execution_count": 29,
   "id": "e6a87b77-6bf2-4138-b12b-6e18eb229cd1",
   "metadata": {},
   "outputs": [],
   "source": [
    "import pandas as pd"
   ]
  },
  {
   "cell_type": "code",
   "execution_count": 30,
   "id": "f1d9e4c3-9cd0-4c8b-90af-13089ed0be19",
   "metadata": {},
   "outputs": [],
   "source": [
    "# usa = pd.read_csv(\"../../trade_demo/datasets/us - feb 2021.csv\", low_memory=False)\n",
    "ca = pd.read_csv(\"../../trade_demo/datasets/ca - feb 2021.csv\", low_memory=False)\n",
    "data = ca"
   ]
  },
  {
   "cell_type": "code",
   "execution_count": 32,
   "id": "c913bd28-9e71-4f8d-bbcb-6642051ec770",
   "metadata": {},
   "outputs": [],
   "source": [
    "partner2assets = {}\n",
    "\n",
    "for index, row in data.iterrows():\n",
    "    # print(row)\n",
    "    # print()\n",
    "\n",
    "    reporter = row['Reporter']\n",
    "    flow = row['Trade Flow']\n",
    "    partner = row['Partner']\n",
    "    commodity_desc = row['Commodity']\n",
    "    amount = row['Trade Value (US$)']\n",
    "    code = row['Commodity Code']\n",
    "\n",
    "    com = str(commodity_desc).lower()\n",
    "    proceed = False\n",
    "    try: \n",
    "        if int(code) < 10:\n",
    "            if partner in {\"Canada\", \"United States of America\", \"Netherlands\", \"United Kingdom\", \"Italy\"}:\n",
    "                proceed = True\n",
    "    except:\n",
    "        \"\"\n",
    "    if proceed:\n",
    "        if partner not in partner2assets.keys():\n",
    "            partner2assets[partner] = {}\n",
    "\n",
    "        if commodity_desc not in partner2assets[partner].keys():\n",
    "            partner2assets[partner][commodity_desc] = {}\n",
    "\n",
    "        if flow not in partner2assets[partner][commodity_desc].keys():\n",
    "            partner2assets[partner][commodity_desc][flow] = {}\n",
    "\n",
    "        partner2assets[partner][commodity_desc][flow] = {'reporter':reporter, 'commodity_desc':commodity_desc, 'amount':amount, 'flow':flow, 'code':code}"
   ]
  },
  {
   "cell_type": "code",
   "execution_count": 33,
   "id": "e1468be1-9c8b-4acb-9d44-273cea29e766",
   "metadata": {},
   "outputs": [
    {
     "data": {
      "text/plain": [
       "dict_keys(['Italy', 'Netherlands', 'United Kingdom', 'United States of America'])"
      ]
     },
     "execution_count": 33,
     "metadata": {},
     "output_type": "execute_result"
    }
   ],
   "source": [
    "partner2assets.keys()"
   ]
  },
  {
   "cell_type": "code",
   "execution_count": 34,
   "id": "01613e59-2168-4646-a19b-57f246c4b425",
   "metadata": {
    "scrolled": true,
    "tags": []
   },
   "outputs": [
    {
     "name": "stdout",
     "output_type": "stream",
     "text": [
      "Loading dataset... uploading... SUCCESS!                                                                                                                                      \n",
      "\n",
      "Run <your client variable>.datasets to see your new dataset loaded into your machine!\n",
      "Loading dataset... uploading... SUCCESS!                                                                                                                                      \n",
      "\n",
      "Run <your client variable>.datasets to see your new dataset loaded into your machine!\n",
      "Loading dataset... uploading... SUCCESS!                                                                                                                                      \n",
      "\n",
      "Run <your client variable>.datasets to see your new dataset loaded into your machine!\n",
      "Loading dataset... uploading... SUCCESS!                                                                                                                                      \n",
      "\n",
      "Run <your client variable>.datasets to see your new dataset loaded into your machine!\n",
      "Loading dataset... uploading... SUCCESS!                                                                                                                                      \n",
      "\n",
      "Run <your client variable>.datasets to see your new dataset loaded into your machine!\n",
      "Loading dataset... uploading... SUCCESS!                                                                                                                                      \n",
      "\n",
      "Run <your client variable>.datasets to see your new dataset loaded into your machine!\n",
      "Loading dataset... uploading... SUCCESS!                                                                                                                                      \n",
      "\n",
      "Run <your client variable>.datasets to see your new dataset loaded into your machine!\n",
      "Loading dataset... uploading... SUCCESS!                                                                                                                                      \n",
      "\n",
      "Run <your client variable>.datasets to see your new dataset loaded into your machine!\n",
      "Loading dataset... uploading... SUCCESS!                                                                                                                                      \n",
      "\n",
      "Run <your client variable>.datasets to see your new dataset loaded into your machine!\n",
      "Loading dataset... uploading... SUCCESS!                                                                                                                                      \n",
      "\n",
      "Run <your client variable>.datasets to see your new dataset loaded into your machine!\n",
      "Loading dataset... uploading... SUCCESS!                                                                                                                                      \n",
      "\n",
      "Run <your client variable>.datasets to see your new dataset loaded into your machine!\n",
      "Loading dataset... uploading... SUCCESS!                                                                                                                                      \n",
      "\n",
      "Run <your client variable>.datasets to see your new dataset loaded into your machine!\n",
      "Loading dataset... uploading... SUCCESS!                                                                                                                                      \n",
      "\n",
      "Run <your client variable>.datasets to see your new dataset loaded into your machine!\n",
      "Loading dataset... uploading... SUCCESS!                                                                                                                                      \n",
      "\n",
      "Run <your client variable>.datasets to see your new dataset loaded into your machine!\n",
      "Loading dataset... uploading... SUCCESS!                                                                                                                                      \n",
      "\n",
      "Run <your client variable>.datasets to see your new dataset loaded into your machine!\n",
      "Loading dataset... uploading... SUCCESS!                                                                                                                                      \n",
      "\n",
      "Run <your client variable>.datasets to see your new dataset loaded into your machine!\n",
      "Loading dataset... uploading... SUCCESS!                                                                                                                                      \n",
      "\n",
      "Run <your client variable>.datasets to see your new dataset loaded into your machine!\n",
      "Loading dataset... uploading... SUCCESS!                                                                                                                                      \n",
      "\n",
      "Run <your client variable>.datasets to see your new dataset loaded into your machine!\n",
      "Loading dataset... uploading... SUCCESS!                                                                                                                                      \n",
      "\n",
      "Run <your client variable>.datasets to see your new dataset loaded into your machine!\n",
      "Loading dataset... uploading... SUCCESS!                                                                                                                                      \n",
      "\n",
      "Run <your client variable>.datasets to see your new dataset loaded into your machine!\n",
      "Loading dataset... uploading... SUCCESS!                                                                                                                                      \n",
      "\n",
      "Run <your client variable>.datasets to see your new dataset loaded into your machine!\n",
      "Loading dataset... uploading... SUCCESS!                                                                                                                                      \n",
      "\n",
      "Run <your client variable>.datasets to see your new dataset loaded into your machine!\n",
      "Loading dataset... uploading... SUCCESS!                                                                                                                                      \n",
      "\n",
      "Run <your client variable>.datasets to see your new dataset loaded into your machine!\n",
      "Loading dataset... uploading... SUCCESS!                                                                                                                                      \n",
      "\n",
      "Run <your client variable>.datasets to see your new dataset loaded into your machine!\n",
      "Loading dataset... uploading... SUCCESS!                                                                                                                                      \n",
      "\n",
      "Run <your client variable>.datasets to see your new dataset loaded into your machine!\n",
      "Loading dataset... uploading... SUCCESS!                                                                                                                                      \n",
      "\n",
      "Run <your client variable>.datasets to see your new dataset loaded into your machine!\n",
      "Loading dataset... uploading... SUCCESS!                                                                                                                                      \n",
      "\n",
      "Run <your client variable>.datasets to see your new dataset loaded into your machine!\n",
      "Loading dataset... uploading... SUCCESS!                                                                                                                                      \n",
      "\n",
      "Run <your client variable>.datasets to see your new dataset loaded into your machine!\n",
      "Loading dataset... uploading... SUCCESS!                                                                                                                                      \n",
      "\n",
      "Run <your client variable>.datasets to see your new dataset loaded into your machine!\n",
      "Loading dataset... uploading... SUCCESS!                                                                                                                                      \n",
      "\n",
      "Run <your client variable>.datasets to see your new dataset loaded into your machine!\n",
      "Loading dataset... uploading... SUCCESS!                                                                                                                                      \n",
      "\n",
      "Run <your client variable>.datasets to see your new dataset loaded into your machine!\n",
      "Loading dataset... uploading... SUCCESS!                                                                                                                                      \n",
      "\n",
      "Run <your client variable>.datasets to see your new dataset loaded into your machine!\n",
      "Loading dataset... uploading... SUCCESS!                                                                                                                                      \n",
      "\n",
      "Run <your client variable>.datasets to see your new dataset loaded into your machine!\n",
      "Loading dataset... uploading... SUCCESS!                                                                                                                                      \n",
      "\n",
      "Run <your client variable>.datasets to see your new dataset loaded into your machine!\n",
      "Loading dataset... uploading... SUCCESS!                                                                                                                                      \n",
      "\n",
      "Run <your client variable>.datasets to see your new dataset loaded into your machine!\n",
      "Loading dataset... uploading... SUCCESS!                                                                                                                                      \n",
      "\n",
      "Run <your client variable>.datasets to see your new dataset loaded into your machine!\n"
     ]
    }
   ],
   "source": [
    "for partner in partner2assets.keys():\n",
    "        \n",
    "    for commodity_desc in partner2assets[partner].keys():\n",
    "        assets = {}\n",
    "        \n",
    "        for flow in partner2assets[partner][commodity_desc].keys():\n",
    "            dataset = sy.Tensor([partner2assets[partner][commodity_desc][flow]['amount']]).private(0,1500000, entities='un')\n",
    "            assets[flow] = dataset\n",
    "\n",
    "        domain.load_dataset(assets=assets,\n",
    "                            name=partner + \" - \" + partner2assets[partner][commodity_desc][flow]['code'],\n",
    "                            description=\"Trade flows with \" + str(partner) + \" of the following type:\" + str(commodity_desc),\n",
    "                           skip_checks=True)"
   ]
  },
  {
   "cell_type": "code",
   "execution_count": null,
   "id": "a50dac1c-12e6-4019-9e6b-ecf7b4594e1c",
   "metadata": {},
   "outputs": [],
   "source": []
  },
  {
   "cell_type": "code",
   "execution_count": null,
   "id": "d5e9e733-d2bc-4f43-871f-6fd81f920e33",
   "metadata": {},
   "outputs": [],
   "source": []
  },
  {
   "cell_type": "code",
   "execution_count": null,
   "id": "26fad0df-e6d5-4609-9800-46ceefe49478",
   "metadata": {},
   "outputs": [],
   "source": []
  },
  {
   "cell_type": "code",
   "execution_count": null,
   "id": "a704b7d8-a66b-4ca1-8916-422c8507eeb0",
   "metadata": {},
   "outputs": [],
   "source": []
  }
 ],
 "metadata": {
  "kernelspec": {
   "display_name": "Python 3 (ipykernel)",
   "language": "python",
   "name": "python3"
  },
  "language_info": {
   "codemirror_mode": {
    "name": "ipython",
    "version": 3
   },
   "file_extension": ".py",
   "mimetype": "text/x-python",
   "name": "python",
   "nbconvert_exporter": "python",
   "pygments_lexer": "ipython3",
   "version": "3.9.7"
  }
 },
 "nbformat": 4,
 "nbformat_minor": 5
}
