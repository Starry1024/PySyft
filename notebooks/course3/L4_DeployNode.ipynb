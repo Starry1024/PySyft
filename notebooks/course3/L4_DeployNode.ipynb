{
 "cells": [
  {
   "cell_type": "markdown",
   "id": "f130f261",
   "metadata": {},
   "source": [
    "++++++++++++++++++++++++++++++++++++++\n",
    "======================================\n",
    "(Ishan & Phil)\n",
    "\n",
    "<b>To Do:</b>\n",
    "- This entire installation, but on macOS and Windows as well to see if it differs significantly\n",
    "\n",
    "<b> To Verify: </b>\n",
    "- The branch that will be used for the course is dev\n",
    "- That 8GB of RAM is still the recommended amt. for Docker\n",
    "- If Hagrid needs to be installed this way, or if Course users can expect a `pip install hagrid` \n",
    "- Will they still be using info@openmined.org to login to their domain for the first time?\n",
    "\n",
    "++++++++++++++++++++++++++++++++++++++\n",
    "======================================"
   ]
  },
  {
   "cell_type": "markdown",
   "id": "88c79f5b",
   "metadata": {},
   "source": [
    "# Deploy your first domain node with Hagrid\n",
    "\n",
    "This tutorial is a step-by-step walkthrough of how to <b>setup your domain node </b> for the very first time. This will enable you to start your peer-to-peer network of data owner and data scientists and collectively train AI models using PySyft.\n",
    "\n",
    "We assume minimal prior knowledge for the setup and cover instructions to install the prerequisites for most platfroms (Linux, Windows, MacOS)."
   ]
  },
  {
   "cell_type": "markdown",
   "id": "dfffcf9f",
   "metadata": {},
   "source": [
    "## Steps\n",
    "\n",
    "### <b> 1. Get the PySyft source code: </b>\n",
    "\n",
    "PySyft is a open-source Python library that enables <b>secure and private machine learning computations</b>.\n",
    "\n",
    "To deploy PySyft computations <b>easier</b> in our nodes, we will use <b>Hagrid (Happy Automation for PyGRID) </b> during the rest of the tutorial, which is a command-line tool that is part of the OpenMined tech stack.\n",
    "\n",
    "The PySyft code is available at <a href=\"https://github.com/OpenMined/PySyft\">this GitHub link</a>. The first step is to clone the repository into a folder of your choice, using your terminal."
   ]
  },
  {
   "cell_type": "code",
   "execution_count": null,
   "id": "5032b9b5",
   "metadata": {},
   "outputs": [],
   "source": [
    "# Clone the repository and move inside it\n",
    "!git clone https://github.com/OpenMined/PySyft && cd PySyft"
   ]
  },
  {
   "cell_type": "code",
   "execution_count": null,
   "id": "52958640",
   "metadata": {},
   "outputs": [],
   "source": [
    "# Fetch any changes\n",
    "!git fetch origin dev"
   ]
  },
  {
   "cell_type": "code",
   "execution_count": null,
   "id": "3042dbb9",
   "metadata": {},
   "outputs": [],
   "source": [
    "# Checkout the relevant branch <--- This may be the default branch\n",
    "!git checkout dev"
   ]
  },
  {
   "cell_type": "markdown",
   "id": "58cd9920",
   "metadata": {},
   "source": [
    "### <b>2. Setup Docker</a></b>\n",
    "\n",
    "If you don't have Docker installed, you may follow the instructions <a href=\"https://docs.docker.com/get-docker/\">here</a>. We rely on docker and docker-composite to orchestrate the collection of domain and network nodes.\n",
    "\n",
    "Once you've installed Docker, please ensure:\n",
    "- it has at least <b> 8GB of available RAM. </b> You can make due with less, Docker will just be a bit slower.\n",
    "    If you're not sure how to check how much RAM Docker is able to access, then:\n",
    "    - macOS/Windows: Open <a href=\"https://www.docker.com/products/docker-desktop\">Docker Desktop</a>, click the gear icon in the top right corner, go to Resources, and move the scrollbar.\n",
    "    - Linux: No action needed; Docker will automatically scale its RAM usage.\n",
    "    - Cloud: Follow the above steps, depending on which platform your instance uses.\n",
    "\n",
    "- <b>Docker Compose V2</b> is installed and enabled:\n",
    "    - macOS/Windows: The docker-compose should be enabled by default, but you can check in Docker Desktop, under Preferences/Settings -> Experimental features that the Docker Compose V2 box is checked\n",
    "    - Linux: You can install it using <a href=\"https://docs.docker.com/compose/cli-command/#installing-compose-v2\">these instructions</a>"
   ]
  },
  {
   "cell_type": "markdown",
   "id": "bbc9d2b1",
   "metadata": {},
   "source": [
    "### <b>3. Create a Virtual Environment </b>\n",
    "\n",
    "The easiest way to have all prerequisties installed is using a virtual environment manager. We recommend <a href=\"https://conda.io\">conda</a>, which can be installed at <a href=\"https://docs.conda.io/projects/conda/en/latest/user-guide/install/index.html\">this link</a>.\n",
    "\n",
    "Once that's done, you can create a new env (named <i>lab</i> below) using the following commands into your terminal:"
   ]
  },
  {
   "cell_type": "code",
   "execution_count": null,
   "id": "68b88edd",
   "metadata": {},
   "outputs": [],
   "source": [
    "# Using Conda as an example\n",
    "!conda create -n lab python=3.9\n",
    "# Activate it:\n",
    "!conda activate lab\n",
    "\n",
    "# Nit: to exit the current env, you can use the following command:\n",
    "# !conda deactivate lab"
   ]
  },
  {
   "cell_type": "markdown",
   "id": "bf4c3d61",
   "metadata": {},
   "source": [
    "### <b>4. Install & launch HAGrid</b>\n",
    "\n",
    "As mentioned above, HAGrid helps us to deploy a domain or network node via only one command line.\n",
    "\n",
    "This makes it easy for you to focus on what's important: handling the data and training the model."
   ]
  },
  {
   "cell_type": "code",
   "execution_count": null,
   "id": "20af9816",
   "metadata": {},
   "outputs": [],
   "source": [
    "# Within the PySyft repository you cloned, move to the appropiate directory and install from local source\n",
    "!cd packages/hagrid && pip install -e ."
   ]
  },
  {
   "cell_type": "code",
   "execution_count": null,
   "id": "d3ca6cde",
   "metadata": {},
   "outputs": [],
   "source": [
    "# Launch HAGrid specifying the name and the type of the node. \n",
    "# The type of the node can be either 'domain' or 'network'.\n",
    "!hagrid launch <node_name> domain"
   ]
  },
  {
   "cell_type": "markdown",
   "id": "281b5ed2",
   "metadata": {},
   "source": [
    "### <b>5. Install & launch Syft </b>"
   ]
  },
  {
   "cell_type": "code",
   "execution_count": null,
   "id": "63c0798c",
   "metadata": {},
   "outputs": [],
   "source": [
    "# Install from source (PySyft/packages/syft)\n",
    "cd ../packages/syft && pip install -e ."
   ]
  },
  {
   "cell_type": "markdown",
   "id": "53b80143",
   "metadata": {},
   "source": [
    "### <b>6. Login to the Domain!</b>\n",
    "\n",
    "\n",
    "<i>Voila!</i> You now have a working domain node. You can manage your deployment as a data owner either in the browser through the PyGrid Admin UI, by doing requests to the available endpoints using the REST API and Postman or directly interact with from code in a Jupyter Notebook like this one!\n",
    "\n",
    "\n",
    "##### Using PyGrid Admin UI\n",
    "To navigate to the Admin UI, go to <b>localhost:port_number</b> in your browser (port_number is 8081 by default) and login with your credentials.\n",
    "\n",
    "The default username and password are as follows:\n",
    "\n",
    "- Username: <b> info@openmined.org </b>\n",
    "- PW: <b> changethis </b>\n",
    "\n",
    "\n",
    "##### Using Postman\n",
    "If you would like to interact with the node via requests, the available endpoints can be found at<a href=\"http://localhost:8081/api/v1/openapi.json/\">localhost:port_number/api/v1/openapi.json/</a>.\n",
    "To access them in Postman, the following environment variables need to be set:\n",
    "- baseUrl: <b> localhost:port_number </b>\n",
    "- login_email: <b> info@openmined.org </b>\n",
    "- login_password: <b> changethis </b>\n",
    "- auth_token: <b> described below </b>\n",
    "\n",
    "To obtain the auth token, you can do a POST request at {{<b>baseUrl</b>}}/api/v1/openapi.json containing the <i>email</i> and <i>passowrd</i> fields.\n",
    "\n",
    "##### Using the Jupyter Notebook\n",
    "PySyft provides a programatic interface to easily manage and work with your node without worrying about the endpoints.\n",
    "\n",
    "Connecting to the domain node, it is as easy as running:"
   ]
  },
  {
   "cell_type": "code",
   "execution_count": null,
   "id": "57c7fe20",
   "metadata": {},
   "outputs": [],
   "source": [
    "import syft as sy\n",
    "domain = sy.login(email='info@openmined.org', password='changethis', port=8081)"
   ]
  },
  {
   "cell_type": "markdown",
   "id": "ae9c5ddf",
   "metadata": {},
   "source": [
    "To query the domain, you can look into the following:"
   ]
  },
  {
   "cell_type": "code",
   "execution_count": null,
   "id": "70ca8995",
   "metadata": {},
   "outputs": [],
   "source": [
    "domain.store"
   ]
  },
  {
   "cell_type": "code",
   "execution_count": null,
   "id": "bfb09efa",
   "metadata": {},
   "outputs": [],
   "source": [
    "domain.requests"
   ]
  },
  {
   "cell_type": "code",
   "execution_count": null,
   "id": "1ab26aeb",
   "metadata": {},
   "outputs": [],
   "source": [
    "domain.users"
   ]
  },
  {
   "cell_type": "markdown",
   "id": "6c86ed01",
   "metadata": {},
   "source": [
    "### 7. Stop the node"
   ]
  },
  {
   "cell_type": "code",
   "execution_count": null,
   "id": "0531f061",
   "metadata": {},
   "outputs": [],
   "source": [
    "# Stops the running node\n",
    "!hagrid land <node_name>"
   ]
  }
 ],
 "metadata": {
  "kernelspec": {
   "display_name": "Python 3 (ipykernel)",
   "language": "python",
   "name": "python3"
  },
  "language_info": {
   "codemirror_mode": {
    "name": "ipython",
    "version": 3
   },
   "file_extension": ".py",
   "mimetype": "text/x-python",
   "name": "python",
   "nbconvert_exporter": "python",
   "pygments_lexer": "ipython3",
   "version": "3.9.7"
  }
 },
 "nbformat": 4,
 "nbformat_minor": 5
}
