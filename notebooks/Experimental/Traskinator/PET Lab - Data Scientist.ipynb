{
 "cells": [
  {
   "cell_type": "code",
   "execution_count": 1,
   "id": "337aefbe-d84d-4db5-8415-11aa4e273810",
   "metadata": {},
   "outputs": [],
   "source": [
    "import syft as sy\n",
    "import numpy as np"
   ]
  },
  {
   "cell_type": "code",
   "execution_count": 74,
   "id": "1230b0be-5605-46bb-8961-a26f2465042d",
   "metadata": {},
   "outputs": [
    {
     "data": {
      "text/html": [
       "<div>\n",
       "<style scoped>\n",
       "    .dataframe tbody tr th:only-of-type {\n",
       "        vertical-align: middle;\n",
       "    }\n",
       "\n",
       "    .dataframe tbody tr th {\n",
       "        vertical-align: top;\n",
       "    }\n",
       "\n",
       "    .dataframe thead th {\n",
       "        text-align: right;\n",
       "    }\n",
       "</style>\n",
       "<table border=\"1\" class=\"dataframe\">\n",
       "  <thead>\n",
       "    <tr style=\"text-align: right;\">\n",
       "      <th></th>\n",
       "      <th>name</th>\n",
       "      <th>host_or_ip</th>\n",
       "      <th>vpn_host_or_ip</th>\n",
       "      <th>protocol</th>\n",
       "      <th>port</th>\n",
       "      <th>admin_email</th>\n",
       "      <th>website</th>\n",
       "      <th>slack</th>\n",
       "      <th>slack_channel</th>\n",
       "    </tr>\n",
       "  </thead>\n",
       "  <tbody>\n",
       "    <tr>\n",
       "      <th>0</th>\n",
       "      <td>omnet</td>\n",
       "      <td>13.64.187.229</td>\n",
       "      <td>100.64.0.1</td>\n",
       "      <td>http</td>\n",
       "      <td>80</td>\n",
       "      <td>support@openmined.org</td>\n",
       "      <td>https://www.openmined.org/</td>\n",
       "      <td>https://slack.openmined.org/</td>\n",
       "      <td>omnet</td>\n",
       "    </tr>\n",
       "    <tr>\n",
       "      <th>1</th>\n",
       "      <td>United Nations PET Lab (Mock)</td>\n",
       "      <td>13.64.14.221</td>\n",
       "      <td>100.64.0.1</td>\n",
       "      <td>http</td>\n",
       "      <td>80</td>\n",
       "      <td>support@openmined.org</td>\n",
       "      <td>https://www.openmined.org/</td>\n",
       "      <td>https://slack.openmined.org/</td>\n",
       "      <td>petlab</td>\n",
       "    </tr>\n",
       "  </tbody>\n",
       "</table>\n",
       "</div>"
      ],
      "text/plain": [
       "<syft.registry.NetworkRegistry at 0x7f93235b8eb0>"
      ]
     },
     "execution_count": 74,
     "metadata": {},
     "output_type": "execute_result"
    }
   ],
   "source": [
    "sy.networks"
   ]
  },
  {
   "cell_type": "code",
   "execution_count": 75,
   "id": "fb07b2f4-a285-4cdf-a390-ee0aa2c53718",
   "metadata": {},
   "outputs": [
    {
     "name": "stdout",
     "output_type": "stream",
     "text": [
      "Connecting to http://13.64.14.221... done! \t Logging into united_nations_mock... as GUEST...done!\n"
     ]
    }
   ],
   "source": [
    "un = sy.networks[1]"
   ]
  },
  {
   "cell_type": "code",
   "execution_count": 76,
   "id": "c7b6ec54-15b0-4aa3-bd8e-b1eb9080643f",
   "metadata": {},
   "outputs": [
    {
     "data": {
      "text/html": [
       "<div>\n",
       "<style scoped>\n",
       "    .dataframe tbody tr th:only-of-type {\n",
       "        vertical-align: middle;\n",
       "    }\n",
       "\n",
       "    .dataframe tbody tr th {\n",
       "        vertical-align: top;\n",
       "    }\n",
       "\n",
       "    .dataframe thead th {\n",
       "        text-align: right;\n",
       "    }\n",
       "</style>\n",
       "<table border=\"1\" class=\"dataframe\">\n",
       "  <thead>\n",
       "    <tr style=\"text-align: right;\">\n",
       "      <th></th>\n",
       "    </tr>\n",
       "  </thead>\n",
       "  <tbody>\n",
       "  </tbody>\n",
       "</table>\n",
       "</div>"
      ],
      "text/plain": [
       "<syft.core.node.common.client_manager.domain_api.DomainRequestAPI at 0x7f9341e3d4c0>"
      ]
     },
     "execution_count": 76,
     "metadata": {},
     "output_type": "execute_result"
    }
   ],
   "source": [
    "un.domains"
   ]
  },
  {
   "cell_type": "code",
   "execution_count": 16,
   "id": "de7755e9-d11a-4bc9-9267-b59759dce270",
   "metadata": {},
   "outputs": [],
   "source": [
    "# usa = un.domains[1]"
   ]
  },
  {
   "cell_type": "code",
   "execution_count": 17,
   "id": "35207914-ed65-40a4-9c27-4321dcb37787",
   "metadata": {},
   "outputs": [],
   "source": [
    "# us = usa.login(email=\"info@openmined.org\", password=\"changethis\")"
   ]
  },
  {
   "cell_type": "code",
   "execution_count": 29,
   "id": "341821e3-8ede-440f-b241-cbf6766b763a",
   "metadata": {},
   "outputs": [
    {
     "name": "stdout",
     "output_type": "stream",
     "text": [
      "Connecting to http://localhost:8081... done! \t Logging into us_census_bureau... done!\n",
      "Connecting to http://localhost:8082... done! \t Logging into statistics_canada... done!\n"
     ]
    }
   ],
   "source": [
    "usa = sy.login(email=\"info@openmined.org\", password=\"changethis\", port=8081)\n",
    "ca = sy.login(email=\"info@openmined.org\", password=\"changethis\", port=8082)"
   ]
  },
  {
   "cell_type": "code",
   "execution_count": 69,
   "id": "08f1cdd0-c10e-47b0-838e-63bfc913476b",
   "metadata": {},
   "outputs": [
    {
     "data": {
      "text/plain": [
       "5.55"
      ]
     },
     "execution_count": 69,
     "metadata": {},
     "output_type": "execute_result"
    }
   ],
   "source": [
    "ca.privacy_budget"
   ]
  },
  {
   "cell_type": "code",
   "execution_count": 70,
   "id": "b8158d3b-2f35-4557-9112-0dd1bbb45b0b",
   "metadata": {},
   "outputs": [
    {
     "data": {
      "text/plain": [
       "5.55"
      ]
     },
     "execution_count": 70,
     "metadata": {},
     "output_type": "execute_result"
    }
   ],
   "source": [
    "usa.privacy_budget"
   ]
  },
  {
   "cell_type": "code",
   "execution_count": 28,
   "id": "d10ad48d-9035-4c8f-a609-d133904d2e21",
   "metadata": {},
   "outputs": [
    {
     "name": "stdout",
     "output_type": "stream",
     "text": [
      "Dataset: Canada - 01\n",
      "Description: Trade flows with Canada of the following type:Animals; live\n",
      "\n"
     ]
    },
    {
     "data": {
      "text/html": [
       "<style>\n",
       "        #myInput {\n",
       "          background-position: 10px 12px; /* Position the search icon */\n",
       "          background-repeat: no-repeat; /* Do not repeat the icon image */\n",
       "          background-color: #bbb;\n",
       "          width: 98%; /* Full-width */\n",
       "          font-size: 14px; /* Increase font-size */\n",
       "          padding: 12px 20px 12px 40px; /* Add some padding */\n",
       "          border: 1px solid #ddd; /* Add a grey border */\n",
       "          margin-bottom: 12px; /* Add some space below the input */\n",
       "        }\n",
       "\n",
       "        #myTable {\n",
       "          border-collapse: collapse; /* Collapse borders */\n",
       "          width: 50%; /* Full-width */\n",
       "          border: 1px solid #ddd; /* Add a grey border */\n",
       "          font-size: 14px; /* Increase font-size */\n",
       "        }\n",
       "\n",
       "        #myTable th, #myTable td {\n",
       "          text-align: left; /* Left-align text */\n",
       "          padding: 10px; /* Add padding */\n",
       "        }\n",
       "\n",
       "        #myTable tr {\n",
       "          /* Add a bottom border to all table rows */\n",
       "          border-bottom: 1px solid #ddd;\n",
       "        }\n",
       "\n",
       "        #myTable tr.header, #myTable tr:hover {\n",
       "          /* Add a grey background color to the table header and on hover */\n",
       "          background-color: #777;\n",
       "        }\n",
       "        </style>\n",
       "\n",
       "        <table id=\"myTable\">\n",
       "          <tr class=\"header\">\n",
       "            <th style=\"width:15%;\">Asset Key</th>\n",
       "            <th style=\"width:20%;\">Type</th>\n",
       "            <th style=\"width:10%;\">Shape</th>\n",
       "          </tr>\n",
       "        \n",
       "\n",
       "              <tr>\n",
       "            <td>[\"Exports\"]</td>\n",
       "            <td>Tensor</td>\n",
       "            <td>(1,)</td>\n",
       "          </tr>\n",
       "\n",
       "              <tr>\n",
       "            <td>[\"Imports\"]</td>\n",
       "            <td>Tensor</td>\n",
       "            <td>(1,)</td>\n",
       "          </tr>\n",
       "\n",
       "              <tr>\n",
       "            <td>[\"Re-exports\"]</td>\n",
       "            <td>Tensor</td>\n",
       "            <td>(1,)</td>\n",
       "          </tr>\n",
       "        </table>\n",
       "\n",
       "        "
      ],
      "text/plain": [
       "<syft.core.node.common.client_manager.dataset_api.Dataset at 0x7f9341be4fa0>"
      ]
     },
     "execution_count": 28,
     "metadata": {},
     "output_type": "execute_result"
    }
   ],
   "source": [
    "usa.datasets[18]"
   ]
  },
  {
   "cell_type": "code",
   "execution_count": 31,
   "id": "6fedb1ee-3709-477d-a625-23f0c2b2af87",
   "metadata": {},
   "outputs": [
    {
     "name": "stdout",
     "output_type": "stream",
     "text": [
      "Dataset: United States of America - 01\n",
      "Description: Trade flows with United States of America of the following type:Animals; live\n",
      "\n"
     ]
    },
    {
     "data": {
      "text/html": [
       "<style>\n",
       "        #myInput {\n",
       "          background-position: 10px 12px; /* Position the search icon */\n",
       "          background-repeat: no-repeat; /* Do not repeat the icon image */\n",
       "          background-color: #bbb;\n",
       "          width: 98%; /* Full-width */\n",
       "          font-size: 14px; /* Increase font-size */\n",
       "          padding: 12px 20px 12px 40px; /* Add some padding */\n",
       "          border: 1px solid #ddd; /* Add a grey border */\n",
       "          margin-bottom: 12px; /* Add some space below the input */\n",
       "        }\n",
       "\n",
       "        #myTable {\n",
       "          border-collapse: collapse; /* Collapse borders */\n",
       "          width: 50%; /* Full-width */\n",
       "          border: 1px solid #ddd; /* Add a grey border */\n",
       "          font-size: 14px; /* Increase font-size */\n",
       "        }\n",
       "\n",
       "        #myTable th, #myTable td {\n",
       "          text-align: left; /* Left-align text */\n",
       "          padding: 10px; /* Add padding */\n",
       "        }\n",
       "\n",
       "        #myTable tr {\n",
       "          /* Add a bottom border to all table rows */\n",
       "          border-bottom: 1px solid #ddd;\n",
       "        }\n",
       "\n",
       "        #myTable tr.header, #myTable tr:hover {\n",
       "          /* Add a grey background color to the table header and on hover */\n",
       "          background-color: #777;\n",
       "        }\n",
       "        </style>\n",
       "\n",
       "        <table id=\"myTable\">\n",
       "          <tr class=\"header\">\n",
       "            <th style=\"width:15%;\">Asset Key</th>\n",
       "            <th style=\"width:20%;\">Type</th>\n",
       "            <th style=\"width:10%;\">Shape</th>\n",
       "          </tr>\n",
       "        \n",
       "\n",
       "              <tr>\n",
       "            <td>[\"Imports\"]</td>\n",
       "            <td>Tensor</td>\n",
       "            <td>(1,)</td>\n",
       "          </tr>\n",
       "\n",
       "              <tr>\n",
       "            <td>[\"Exports\"]</td>\n",
       "            <td>Tensor</td>\n",
       "            <td>(1,)</td>\n",
       "          </tr>\n",
       "\n",
       "              <tr>\n",
       "            <td>[\"Re-exports\"]</td>\n",
       "            <td>Tensor</td>\n",
       "            <td>(1,)</td>\n",
       "          </tr>\n",
       "        </table>\n",
       "\n",
       "        "
      ],
      "text/plain": [
       "<syft.core.node.common.client_manager.dataset_api.Dataset at 0x7f93223c57c0>"
      ]
     },
     "execution_count": 31,
     "metadata": {},
     "output_type": "execute_result"
    }
   ],
   "source": [
    "ca.datasets[35]"
   ]
  },
  {
   "cell_type": "code",
   "execution_count": 33,
   "id": "f0e22d12-3570-40ce-b7de-43c8d23006f6",
   "metadata": {},
   "outputs": [],
   "source": [
    "usa_exports_to_canada = usa.datasets[18]['Exports']"
   ]
  },
  {
   "cell_type": "code",
   "execution_count": null,
   "id": "5c5e383c-3b39-45f7-a129-b52fd24ef4b0",
   "metadata": {},
   "outputs": [],
   "source": [
    "canada_imports_from_usa = ca.datasets[35]['Imports']                     "
   ]
  },
  {
   "cell_type": "code",
   "execution_count": 71,
   "id": "461bc1ed-6c7c-4fe6-91da-9f1b0b45c33c",
   "metadata": {},
   "outputs": [
    {
     "name": "stderr",
     "output_type": "stream",
     "text": [
      "[2021-10-29T04:39:34.955119+0100][CRITICAL][logger]][25176] 'Class' object has no attribute 'generate_przs_on_dp_tensor'\n",
      "[2021-10-29T04:39:34.998069+0100][CRITICAL][logger]][25176] 'Class' object has no attribute 'generate_przs_on_dp_tensor'\n",
      "[2021-10-29T04:39:35.051946+0100][CRITICAL][logger]][25176] 'Class' object has no attribute 'generate_przs_on_dp_tensor'\n",
      "[2021-10-29T04:39:35.099228+0100][CRITICAL][logger]][25176] 'Class' object has no attribute 'generate_przs_on_dp_tensor'\n"
     ]
    }
   ],
   "source": [
    "diff = usa_exports_to_canada + canada_imports_from_usa * -np.ones(canada_imports_from_usa.public_shape).astype(np.int32)"
   ]
  },
  {
   "cell_type": "code",
   "execution_count": 72,
   "id": "00638240-6572-4e7f-a3e6-973550b2dca5",
   "metadata": {},
   "outputs": [],
   "source": [
    "public_diff = diff.block.publish(sigma=100)"
   ]
  },
  {
   "cell_type": "code",
   "execution_count": 73,
   "id": "bfdf3a56-17cf-4cbe-ab1e-aa8f519bc1db",
   "metadata": {},
   "outputs": [
    {
     "data": {
      "text/plain": [
       "array([-57], dtype=int32)"
      ]
     },
     "execution_count": 73,
     "metadata": {},
     "output_type": "execute_result"
    }
   ],
   "source": [
    "public_diff.get()"
   ]
  },
  {
   "cell_type": "code",
   "execution_count": null,
   "id": "ef8df979-969a-43a0-8bf3-5559bbdc75b6",
   "metadata": {},
   "outputs": [],
   "source": []
  }
 ],
 "metadata": {
  "kernelspec": {
   "display_name": "Python 3 (ipykernel)",
   "language": "python",
   "name": "python3"
  },
  "language_info": {
   "codemirror_mode": {
    "name": "ipython",
    "version": 3
   },
   "file_extension": ".py",
   "mimetype": "text/x-python",
   "name": "python",
   "nbconvert_exporter": "python",
   "pygments_lexer": "ipython3",
   "version": "3.9.7"
  }
 },
 "nbformat": 4,
 "nbformat_minor": 5
}
