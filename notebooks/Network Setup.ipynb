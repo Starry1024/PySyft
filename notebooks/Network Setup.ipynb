{
 "cells": [
  {
   "cell_type": "markdown",
   "id": "ae09d03b-7af8-42f5-a456-6a50a70d5edd",
   "metadata": {},
   "source": [
    "# Setup a Network"
   ]
  },
  {
   "cell_type": "code",
   "execution_count": 1,
   "id": "15640ea9-fbb8-4e43-ad04-484b64e340cd",
   "metadata": {},
   "outputs": [],
   "source": [
    "import syft as sy"
   ]
  },
  {
   "cell_type": "code",
   "execution_count": 2,
   "id": "c2275b5f-246f-4de6-8d40-0f7438c2b983",
   "metadata": {},
   "outputs": [],
   "source": [
    "NETWORK_HOST_IP=\"localhost\"\n",
    "NETWORK_HOST_PORT=8081"
   ]
  },
  {
   "cell_type": "code",
   "execution_count": 3,
   "id": "34dc86ad-b202-4c95-ae9b-5d016998705d",
   "metadata": {},
   "outputs": [
    {
     "name": "stdout",
     "output_type": "stream",
     "text": [
      "Connecting to http://localhost:8081... done! \t Logging into my_network... done!\n"
     ]
    }
   ],
   "source": [
    "network_root = sy.login(\n",
    "    email=\"info@openmined.org\",\n",
    "    password=\"changethis\",\n",
    "    url=f\"http://{NETWORK_HOST_IP}\",\n",
    "    port=NETWORK_HOST_PORT\n",
    ")"
   ]
  },
  {
   "cell_type": "code",
   "execution_count": 4,
   "id": "2e4c54ce-5f52-4901-8693-2a5ae9c4fff8",
   "metadata": {},
   "outputs": [],
   "source": [
    "network_root.configure(\n",
    "    domain_name=\"my_network\",\n",
    "    description=\"My Awesome Network\",\n",
    "    contact=\"admin@mynetwork.org\",\n",
    "    tags=[\"Awesome\", \"Data\"],\n",
    "    daa=False\n",
    ")"
   ]
  },
  {
   "cell_type": "code",
   "execution_count": 5,
   "id": "7a08b1a8-374f-4d1b-bf70-a3660f684f04",
   "metadata": {},
   "outputs": [
    {
     "data": {
      "text/plain": [
       "{'id': 1,\n",
       " 'domain_name': 'my_network',\n",
       " 'description': 'My Awesome Network',\n",
       " 'contact': 'admin@mynetwork.org',\n",
       " 'daa': False,\n",
       " 'node_id': 'b66ab638deab4dcdbdf02400f8d4592c',\n",
       " 'daa_document': '7',\n",
       " 'tags': ['Awesome', 'Data'],\n",
       " 'deployed_on': '2021-10-29 00:02:23.061560'}"
      ]
     },
     "execution_count": 5,
     "metadata": {},
     "output_type": "execute_result"
    }
   ],
   "source": [
    "network_root.settings"
   ]
  },
  {
   "cell_type": "code",
   "execution_count": 6,
   "id": "a8fa3723-f70a-4016-a347-5e654eb363a6",
   "metadata": {},
   "outputs": [],
   "source": [
    "import requests"
   ]
  },
  {
   "cell_type": "code",
   "execution_count": 7,
   "id": "8629bf6e-22a5-4a9a-89f6-49528812d338",
   "metadata": {},
   "outputs": [
    {
     "data": {
      "text/plain": [
       "{'id': 1,\n",
       " 'domain_name': 'my_network',\n",
       " 'description': 'My Awesome Network',\n",
       " 'contact': 'admin@mynetwork.org',\n",
       " 'daa': False,\n",
       " 'node_id': 'b66ab638deab4dcdbdf02400f8d4592c',\n",
       " 'daa_document': '7',\n",
       " 'tags': ['Awesome', 'Data'],\n",
       " 'deployed_on': '2021-10-29 00:02:23.061560'}"
      ]
     },
     "execution_count": 7,
     "metadata": {},
     "output_type": "execute_result"
    }
   ],
   "source": [
    "requests.get(f\"http://{NETWORK_HOST_IP}:{NETWORK_HOST_PORT}/api/v1/settings\").json()"
   ]
  },
  {
   "cell_type": "code",
   "execution_count": null,
   "id": "2716aa0e-5f09-49b9-a038-51493d924f51",
   "metadata": {},
   "outputs": [],
   "source": []
  }
 ],
 "metadata": {
  "kernelspec": {
   "display_name": "Python 3 (ipykernel)",
   "language": "python",
   "name": "python3"
  },
  "language_info": {
   "codemirror_mode": {
    "name": "ipython",
    "version": 3
   },
   "file_extension": ".py",
   "mimetype": "text/x-python",
   "name": "python",
   "nbconvert_exporter": "python",
   "pygments_lexer": "ipython3",
   "version": "3.9.4"
  }
 },
 "nbformat": 4,
 "nbformat_minor": 5
}
