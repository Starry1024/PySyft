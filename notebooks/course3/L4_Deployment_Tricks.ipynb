{
 "cells": [
  {
   "cell_type": "markdown",
   "id": "c2eea8ba-2181-4073-bbfc-94b175de1840",
   "metadata": {},
   "source": [
    "++++++++++++++++++++++++++++++++++++++\n",
    "======================================\n",
    "(Ishan & Phil)\n",
    "\n",
    "<b>To Do:</b>\n",
    "- See if there are any other tips & Tricks we could add\n",
    "(e.g. are there ways to get by with less RAM usage?)\n",
    "\n",
    "++++++++++++++++++++++++++++++++++++++\n",
    "======================================"
   ]
  },
  {
   "cell_type": "markdown",
   "id": "9f307d83-f207-40a4-9d66-6ee8fd6b6c00",
   "metadata": {},
   "source": [
    "# The Honest Truth\n",
    "I truly believe that privacy enhancing technologies, like what we're building at OpenMined are the road to a better  future. \n",
    "Our stack is constantly evolving and getting better and more user-friendly. The day will come when you'll be able to {insert roadmap claim here} deploy a local domain node with the click of a single button. But until then, here are a few tips and tricks when it comes to working with this infrastructure.\n",
    "\n",
    "OR: \n",
    "\n",
    "Through my time working with OpenMined, I've found a bunch of ways to make life easier while working with local domain nodes, docker containers, and so forth.\n",
    "\n",
    "Please note that this list will be routinely reviewed and updated to match the latest version of PySyft :) "
   ]
  },
  {
   "cell_type": "markdown",
   "id": "cd624d42-0392-447a-9de4-2f3822af2446",
   "metadata": {},
   "source": [
    "## Aliases\n",
    "Here are some bash aliases I use for varous purposes, such as in order to ease the process of launching my local domain node."
   ]
  },
  {
   "cell_type": "code",
   "execution_count": null,
   "id": "e2e84d7c-5f0c-4440-ab31-139a5c6e158a",
   "metadata": {},
   "outputs": [],
   "source": [
    "# Activates the venv, and navigates to the Syft directory\n",
    "alias syft=\"conda activate <env_name> && cd <path/to/Pysyft>"
   ]
  },
  {
   "cell_type": "code",
   "execution_count": null,
   "id": "cfc4825b-4dc9-46d3-ba07-3c683f1ad8fe",
   "metadata": {},
   "outputs": [],
   "source": [
    "# Launches the local domain node with one word\n",
    "alias launch=\"hagrid launch <node_name> domain to docker:8081+ tail=True\""
   ]
  },
  {
   "cell_type": "code",
   "execution_count": null,
   "id": "a5d28961-9734-435d-92cf-fa2c6db0a4a4",
   "metadata": {},
   "outputs": [],
   "source": [
    "# Shuts down all local domain nodes\n",
    "alias land=\"hagrid land all\""
   ]
  },
  {
   "cell_type": "markdown",
   "id": "50fc4c9a-eb7c-490c-98f1-edd19b91f8db",
   "metadata": {},
   "source": [
    "# Clearing Up Space\n",
    "Docker has a reputation for taking up a suprisingly large amount of space as its containers are running. Here are a few ways I've found to mitigate those effects. "
   ]
  },
  {
   "cell_type": "code",
   "execution_count": null,
   "id": "cae6e1e1-7d10-467b-82c5-deab62f6793d",
   "metadata": {},
   "outputs": [],
   "source": [
    "# This cleans up after docker\n",
    "# WARNING: will delete all currently unused or inactive \n",
    "cleanup() {\n",
    "        echo \"Pruning Network\"\n",
    "        docker network prune -f\n",
    "        echo \"Pruning Volume\"\n",
    "        docker volume prune -f\n",
    "        echo \"Pruning System\"\n",
    "        docker system prune -f\n",
    "        echo \"Pruning Containers\"\n",
    "        docker container prune -f\n",
    "}"
   ]
  },
  {
   "cell_type": "code",
   "execution_count": null,
   "id": "1d7cf5ce-80a5-44da-a052-3c05801c6b7a",
   "metadata": {},
   "outputs": [],
   "source": []
  },
  {
   "cell_type": "markdown",
   "id": "dba2e61a-dc86-4dba-9e44-fb2555c11227",
   "metadata": {},
   "source": [
    "# Testing and debugging\n",
    "Here are some commands that will make it easier to work with Docker containers, while testing, debugging, or for other purposes. "
   ]
  },
  {
   "cell_type": "markdown",
   "id": "fb5c3696-ce57-4874-abb2-2a0f3dcb7add",
   "metadata": {},
   "source": [
    "#### <b> ctop </b>\n",
    "ctop is a handy tool that lets you quickly monitor and manage all your containers (both active and inactive):"
   ]
  },
  {
   "cell_type": "code",
   "execution_count": null,
   "id": "ca70cb9b-24f1-4ae0-9a2f-5827432f8bd8",
   "metadata": {},
   "outputs": [],
   "source": [
    "# To install, simply\n",
    "sudo apt install ctop"
   ]
  },
  {
   "cell_type": "code",
   "execution_count": null,
   "id": "2183e0f0-a5c0-4aae-97e2-34f87f11edb0",
   "metadata": {},
   "outputs": [],
   "source": [
    "# ctop is a quick way to monitor containers\n",
    "ctop"
   ]
  },
  {
   "cell_type": "markdown",
   "id": "526c5add-40c9-465f-a2ba-990112a082ac",
   "metadata": {},
   "source": [
    "By hovering over a container and pressing enter, you gain the ability to:\n",
    "\n",
    "- <b> View: </b>\n",
    "    - <b> Single View </b> (keybind 'o'): view details of that specific container, including ports, health, CPU/MEM usage, NET/IO, environment variables, and much more.\n",
    "    - <b> Log View </b> (keybind 'l'): View the logs of just this container. This is in contrast to launching a local domain node with tail=True, as that method continuousy outputs all the container logs in real time.\n",
    "- <b> Interact: </b>\n",
    "    - <b> Stop </b> (keybind 's'): Stop the container.\n",
    "    - <b> Pause </b> (keybind 'p'): Pause the container.\n",
    "    - <b> Restart </b> (keybind 'r'): Restart the container.\n",
    "    - <b> Exec shell </b> (keybind 'e'): This lets you run commands inside this shell. This is very handy if you want to run test files inside a container, for instance."
   ]
  },
  {
   "cell_type": "code",
   "execution_count": null,
   "id": "f59a73ec-7ddd-4f8d-86e1-79aa3cf21f1f",
   "metadata": {},
   "outputs": [],
   "source": []
  },
  {
   "cell_type": "code",
   "execution_count": null,
   "id": "94e85a90-9441-4222-a302-1bd1dc24dacd",
   "metadata": {},
   "outputs": [],
   "source": [
    "# setting tail=True to view log output"
   ]
  },
  {
   "cell_type": "markdown",
   "id": "d0613e05-9a03-429b-8188-0508d4c7aa54",
   "metadata": {},
   "source": [
    "<b> Resetting Domain Node Storage/Memory </b>\n",
    "\n",
    "By deleting the db container, you can do a hard reset on the domain node's storage and memory."
   ]
  },
  {
   "cell_type": "code",
   "execution_count": null,
   "id": "3b545e86-56f5-45f4-871c-3324528bf06a",
   "metadata": {},
   "outputs": [],
   "source": []
  }
 ],
 "metadata": {
  "kernelspec": {
   "display_name": "Python 3 (ipykernel)",
   "language": "python",
   "name": "python3"
  },
  "language_info": {
   "codemirror_mode": {
    "name": "ipython",
    "version": 3
   },
   "file_extension": ".py",
   "mimetype": "text/x-python",
   "name": "python",
   "nbconvert_exporter": "python",
   "pygments_lexer": "ipython3",
   "version": "3.9.7"
  }
 },
 "nbformat": 4,
 "nbformat_minor": 5
}
