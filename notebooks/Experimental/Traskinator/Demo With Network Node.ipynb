{
 "cells": [
  {
   "cell_type": "code",
   "execution_count": 1,
   "id": "d84d03dc-5693-47a7-b2a4-79f18ce98f4c",
   "metadata": {},
   "outputs": [],
   "source": [
    "import syft as sy"
   ]
  },
  {
   "cell_type": "markdown",
   "id": "0ae8dbb6-6916-41e2-be1b-56f88ef1e538",
   "metadata": {},
   "source": [
    "# Initial Network Setup\n",
    "\n",
    "The network has to join itself so that it's registered within its own key server and can use the VPN network that it's hosting."
   ]
  },
  {
   "cell_type": "code",
   "execution_count": 2,
   "id": "a02fc6e3-a9f4-48fb-af52-a02fa1e143cf",
   "metadata": {},
   "outputs": [],
   "source": [
    "NETWORK_PUBLIC_HOST = \"docker-host:9081\""
   ]
  },
  {
   "cell_type": "code",
   "execution_count": 3,
   "id": "df73243e-f233-45be-b9fc-58c46d716278",
   "metadata": {},
   "outputs": [
    {
     "name": "stdout",
     "output_type": "stream",
     "text": [
      "Connecting to http://localhost:9081... done! \t Logging into test_network_1... done!\n"
     ]
    }
   ],
   "source": [
    "network_root = sy.login(email=\"info@openmined.org\", password=\"changethis\", port=9081)"
   ]
  },
  {
   "cell_type": "code",
   "execution_count": 4,
   "id": "b18b017a-e92a-4d16-9a39-c1d924e5d238",
   "metadata": {},
   "outputs": [
    {
     "name": "stdout",
     "output_type": "stream",
     "text": [
      "🔌 <NetworkClient: test_network_1> successfully connected to the VPN: docker-host:9081\n"
     ]
    }
   ],
   "source": [
    "network_root.join_network(host_or_ip=NETWORK_PUBLIC_HOST)"
   ]
  },
  {
   "cell_type": "code",
   "execution_count": 5,
   "id": "caaeef07-78dd-44c4-a680-f516705337b7",
   "metadata": {},
   "outputs": [
    {
     "data": {
      "text/plain": [
       "{'status': 'ok',\n",
       " 'connected': True,\n",
       " 'host': {'ip': '100.64.0.1',\n",
       "  'hostname': 'test_network_1',\n",
       "  'network': 'omnet',\n",
       "  'os': 'linux',\n",
       "  'connection_info': '-',\n",
       "  'connection_status': 'n/a',\n",
       "  'connection_type': 'n/a'},\n",
       " 'peers': []}"
      ]
     },
     "execution_count": 5,
     "metadata": {},
     "output_type": "execute_result"
    }
   ],
   "source": [
    "network_root.vpn_status()"
   ]
  },
  {
   "cell_type": "markdown",
   "id": "adf31d7b-d9bd-4907-8549-5bc861755782",
   "metadata": {},
   "source": [
    "# Domain Applies to Network"
   ]
  },
  {
   "cell_type": "code",
   "execution_count": 6,
   "id": "1b848a73-6d05-476b-9450-b9b422cd5ee3",
   "metadata": {},
   "outputs": [],
   "source": [
    "NETWORK_HOST_IP = \"localhost:9081\""
   ]
  },
  {
   "cell_type": "code",
   "execution_count": 7,
   "id": "19e8e72e-6824-4b77-a9d5-29d4f5237db2",
   "metadata": {},
   "outputs": [
    {
     "name": "stdout",
     "output_type": "stream",
     "text": [
      "Connecting to http://localhost:9082... done! \t Logging into test_domain_1... done!\n"
     ]
    }
   ],
   "source": [
    "domain = sy.login(email=\"info@openmined.org\", password=\"changethis\", port=9082)"
   ]
  },
  {
   "cell_type": "code",
   "execution_count": 8,
   "id": "697aa5f7-62cd-485d-8925-747baab3df96",
   "metadata": {},
   "outputs": [
    {
     "name": "stdout",
     "output_type": "stream",
     "text": [
      "🔌 <DomainClient - test_domain_1: <UID: 67aa010b165842598afa9897e8b47c8a>> successfully connected to the VPN: docker-host:9081\n"
     ]
    }
   ],
   "source": [
    "domain.join_network(host_or_ip=NETWORK_PUBLIC_HOST)"
   ]
  },
  {
   "cell_type": "code",
   "execution_count": 9,
   "id": "a152d1b7-8b4d-4e64-8322-954633f231b3",
   "metadata": {},
   "outputs": [
    {
     "data": {
      "text/plain": [
       "{'status': 'ok',\n",
       " 'connected': True,\n",
       " 'host': {'ip': '100.64.0.2',\n",
       "  'hostname': 'test_domain_1',\n",
       "  'network': 'omnet',\n",
       "  'os': 'linux',\n",
       "  'connection_info': '-',\n",
       "  'connection_status': 'n/a',\n",
       "  'connection_type': 'n/a'},\n",
       " 'peers': [{'ip': '100.64.0.1',\n",
       "   'hostname': 'test_network_1',\n",
       "   'network': 'omnet',\n",
       "   'os': 'linux',\n",
       "   'connection_info': '-',\n",
       "   'connection_status': 'n/a',\n",
       "   'connection_type': 'n/a'}]}"
      ]
     },
     "execution_count": 9,
     "metadata": {},
     "output_type": "execute_result"
    }
   ],
   "source": [
    "domain.vpn_status()"
   ]
  },
  {
   "cell_type": "code",
   "execution_count": 10,
   "id": "0d2459eb-e3ec-4db3-b612-ecbf0fbe99ea",
   "metadata": {},
   "outputs": [],
   "source": [
    "domain.apply_to_network(domain_vpn_ip=\"100.64.0.2\", network_vpn_ip=\"100.64.0.1\")"
   ]
  },
  {
   "cell_type": "markdown",
   "id": "fbe46d1d-0ded-48aa-9dd6-5612f142ddd6",
   "metadata": {},
   "source": [
    "# Network Approves Domain Application"
   ]
  },
  {
   "cell_type": "code",
   "execution_count": 12,
   "id": "165c90ba-5ac6-4690-a551-e77d0b8462dd",
   "metadata": {},
   "outputs": [
    {
     "data": {
      "text/html": [
       "<div>\n",
       "<style scoped>\n",
       "    .dataframe tbody tr th:only-of-type {\n",
       "        vertical-align: middle;\n",
       "    }\n",
       "\n",
       "    .dataframe tbody tr th {\n",
       "        vertical-align: top;\n",
       "    }\n",
       "\n",
       "    .dataframe thead th {\n",
       "        text-align: right;\n",
       "    }\n",
       "</style>\n",
       "<table border=\"1\" class=\"dataframe\">\n",
       "  <thead>\n",
       "    <tr style=\"text-align: right;\">\n",
       "      <th></th>\n",
       "      <th>requested_date</th>\n",
       "      <th>node_name</th>\n",
       "      <th>target</th>\n",
       "      <th>source</th>\n",
       "      <th>reason</th>\n",
       "      <th>status</th>\n",
       "      <th>name</th>\n",
       "      <th>node_address</th>\n",
       "      <th>email</th>\n",
       "      <th>association_id</th>\n",
       "    </tr>\n",
       "  </thead>\n",
       "  <tbody>\n",
       "    <tr>\n",
       "      <th>0</th>\n",
       "      <td>10/28/2021</td>\n",
       "      <td>test_domain_1</td>\n",
       "      <td>100.64.0.1</td>\n",
       "      <td>100.64.0.2</td>\n",
       "      <td></td>\n",
       "      <td>PENDING</td>\n",
       "      <td></td>\n",
       "      <td>67aa010b165842598afa9897e8b47c8a</td>\n",
       "      <td></td>\n",
       "      <td>1</td>\n",
       "    </tr>\n",
       "  </tbody>\n",
       "</table>\n",
       "</div>"
      ],
      "text/plain": [
       "  requested_date      node_name      target      source reason   status name  \\\n",
       "0     10/28/2021  test_domain_1  100.64.0.1  100.64.0.2         PENDING        \n",
       "\n",
       "                       node_address email association_id  \n",
       "0  67aa010b165842598afa9897e8b47c8a                    1  "
      ]
     },
     "execution_count": 12,
     "metadata": {},
     "output_type": "execute_result"
    }
   ],
   "source": [
    "network_root.association.pandas()"
   ]
  },
  {
   "cell_type": "code",
   "execution_count": 17,
   "id": "c362fbe2-c7c8-41b7-8744-74471bdee510",
   "metadata": {},
   "outputs": [],
   "source": [
    "request_id = int(network_root.association.all()[0][\"association_id\"])"
   ]
  },
  {
   "cell_type": "code",
   "execution_count": 20,
   "id": "49c0836a-8869-4299-a050-30f85346c7ce",
   "metadata": {},
   "outputs": [
    {
     "data": {
      "text/plain": [
       "<SuccessResponseMessage: 2266581c58f74e6b9028dea971dcefe1>"
      ]
     },
     "execution_count": 20,
     "metadata": {},
     "output_type": "execute_result"
    }
   ],
   "source": [
    "network_root.association[1].accept()"
   ]
  },
  {
   "cell_type": "markdown",
   "id": "ac1595dc-79a4-4c46-8931-b3eb63055a97",
   "metadata": {},
   "source": [
    "# Domain Owner Uploads Some Data"
   ]
  },
  {
   "cell_type": "code",
   "execution_count": 21,
   "id": "c9a7e386-cfcf-42eb-b638-fd40f6e3eef2",
   "metadata": {},
   "outputs": [],
   "source": [
    "import numpy as np"
   ]
  },
  {
   "cell_type": "code",
   "execution_count": 29,
   "id": "93830353-6906-487c-9a47-05a3b00393f9",
   "metadata": {},
   "outputs": [],
   "source": [
    "data = sy.Tensor([1,2,3,4,5]).private(min_val=0, max_val=5, entities=\"bob\")"
   ]
  },
  {
   "cell_type": "code",
   "execution_count": 35,
   "id": "2149e762-683a-4c26-a8e2-8873fa180ec4",
   "metadata": {},
   "outputs": [
    {
     "name": "stdout",
     "output_type": "stream",
     "text": [
      "Loading dataset... uploading... SUCCESS!                                                                                                                                      \n",
      "\n",
      "Run <your client variable>.datasets to see your new dataset loaded into your machine!\n"
     ]
    }
   ],
   "source": [
    "domain.load_dataset(assets={\"january\":data},\n",
    "                   name=\"Temporal Data\",\n",
    "                   description=\"Some data from january.\")"
   ]
  },
  {
   "cell_type": "code",
   "execution_count": 36,
   "id": "f286e463-7256-499d-bfd1-08773cba8f3c",
   "metadata": {},
   "outputs": [
    {
     "data": {
      "text/html": [
       "<style>\n",
       "                #myInput {\n",
       "                  background-position: 10px 12px; /* Position the search icon */\n",
       "                  background-repeat: no-repeat; /* Do not repeat the icon image */\n",
       "                  background-color: #bbb;\n",
       "                  width: 98%; /* Full-width */\n",
       "                  font-size: 14px; /* Increase font-size */\n",
       "                  padding: 12px 20px 12px 40px; /* Add some padding */\n",
       "                  border: 1px solid #ddd; /* Add a grey border */\n",
       "                  margin-bottom: 12px; /* Add some space below the input */\n",
       "                }\n",
       "\n",
       "                #myTable {\n",
       "                  border-collapse: collapse; /* Collapse borders */\n",
       "                  width: 100%; /* Full-width */\n",
       "                  border: 1px solid #ddd; /* Add a grey border */\n",
       "                  font-size: 14px; /* Increase font-size */\n",
       "                }\n",
       "\n",
       "                #myTable th, #myTable td {\n",
       "                  text-align: left; /* Left-align text */\n",
       "                  padding: 10px; /* Add padding */\n",
       "                }\n",
       "\n",
       "                #myTable tr {\n",
       "                  /* Add a bottom border to all table rows */\n",
       "                  border-bottom: 1px solid #ddd;\n",
       "                }\n",
       "\n",
       "                #myTable tr.header, #myTable tr:hover {\n",
       "                  /* Add a grey background color to the table header and on hover */\n",
       "                  background-color: #777;\n",
       "                }\n",
       "                </style>\n",
       "\n",
       "                <input type=\"text\" id=\"myInput\" onkeyup=\"myFunction()\" placeholder=\"Search for datasets..\">\n",
       "\n",
       "                <table id=\"myTable\">\n",
       "                  <tr class=\"header\">\n",
       "                    <th style=\"width:30px\">Idx</th>\n",
       "                    <th style=\"width:20%;\">Name</th>\n",
       "                    <th style=\"width:35%;\">Description</th>\n",
       "                    <th style=\"width:20%;\">Assets</th>\n",
       "                    <th style=\"width:300px;\">Id</th>\n",
       "                  </tr>\n",
       "                \n",
       "\n",
       "          <tr>\n",
       "            <td>[0]</td>\n",
       "            <td>Temporal Data</td>\n",
       "            <td>Some data from january.</td>\n",
       "            <td>[\"january\"] -> Tensor<br /><br /></td>\n",
       "            <td>dd840018-0f67-463a-8d0b-1059ae880a64</td>\n",
       "          </tr>\n",
       "        </table>\n",
       "\n",
       "        <script>\n",
       "        function myFunction() {\n",
       "          // Declare variables\n",
       "          var input, filter, table, tr, td, i, txtValue;\n",
       "          input = document.getElementById(\"myInput\");\n",
       "          filter = input.value.toUpperCase();\n",
       "          table = document.getElementById(\"myTable\");\n",
       "          tr = table.getElementsByTagName(\"tr\");\n",
       "\n",
       "          // Loop through all table rows, and hide those who don't match the search query\n",
       "          for (i = 0; i < tr.length; i++) {\n",
       "            name_td = tr[i].getElementsByTagName(\"td\")[1];\n",
       "            desc_td = tr[i].getElementsByTagName(\"td\")[2];\n",
       "            asset_td = tr[i].getElementsByTagName(\"td\")[3];\n",
       "            id_td = tr[i].getElementsByTagName(\"td\")[4];\n",
       "            if (name_td || desc_td || asset_td || id_td) {\n",
       "              name_txtValue = name_td.textContent || name_td.innerText;\n",
       "              desc_txtValue = desc_td.textContent || name_td.innerText;\n",
       "              asset_txtValue = asset_td.textContent || name_td.innerText;\n",
       "              id_txtValue = id_td.textContent || name_td.innerText;\n",
       "              name_bool = name_txtValue.toUpperCase().indexOf(filter) > -1;\n",
       "              desc_bool = desc_txtValue.toUpperCase().indexOf(filter) > -1;\n",
       "              asset_bool = asset_txtValue.toUpperCase().indexOf(filter) > -1;\n",
       "              id_bool = id_txtValue.toUpperCase().indexOf(filter) > -1;\n",
       "              if (name_bool || desc_bool || asset_bool || id_bool) {\n",
       "                tr[i].style.display = \"\";\n",
       "              } else {\n",
       "                tr[i].style.display = \"none\";\n",
       "              }\n",
       "            }\n",
       "          }\n",
       "        }\n",
       "        </script>"
      ],
      "text/plain": [
       "<syft.core.node.common.client_manager.dataset_api.DatasetRequestAPI at 0x7fbbc0d00af0>"
      ]
     },
     "execution_count": 36,
     "metadata": {},
     "output_type": "execute_result"
    }
   ],
   "source": [
    "domain.datasets"
   ]
  },
  {
   "cell_type": "markdown",
   "id": "93a5f5c5-7645-4ace-a5b3-31976a12e6f1",
   "metadata": {},
   "source": [
    "# Data Scientist "
   ]
  }
 ],
 "metadata": {
  "kernelspec": {
   "display_name": "Python 3 (ipykernel)",
   "language": "python",
   "name": "python3"
  },
  "language_info": {
   "codemirror_mode": {
    "name": "ipython",
    "version": 3
   },
   "file_extension": ".py",
   "mimetype": "text/x-python",
   "name": "python",
   "nbconvert_exporter": "python",
   "pygments_lexer": "ipython3",
   "version": "3.9.7"
  }
 },
 "nbformat": 4,
 "nbformat_minor": 5
}
