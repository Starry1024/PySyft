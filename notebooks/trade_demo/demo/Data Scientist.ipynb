{
 "cells": [
  {
   "cell_type": "code",
   "execution_count": 1,
   "id": "089dcd10",
   "metadata": {},
   "outputs": [],
   "source": [
    "import pandas as pd\n",
    "import syft as sy\n",
    "import numpy as np\n",
    "sy.logger.remove()"
   ]
  },
  {
   "cell_type": "markdown",
   "id": "6025d4af",
   "metadata": {},
   "source": [
    "### Logging into the domain Nodes"
   ]
  },
  {
   "cell_type": "code",
   "execution_count": 2,
   "id": "0db3e249",
   "metadata": {},
   "outputs": [
    {
     "name": "stdout",
     "output_type": "stream",
     "text": [
      "Connecting to http://localhost:8081... done! \t Logging into magical_fridman... done!\n",
      "Connecting to http://localhost:8082... done! \t Logging into laughing_pearl... done!\n"
     ]
    }
   ],
   "source": [
    "# We will login into Canada and Italy domain node\n",
    "ca = sy.login(email=\"sheldon@caltech.edu\", password=\"bazinga\", port=8081)\n",
    "it = sy.login(email=\"sheldon@caltech.edu\", password=\"bazinga\", port=8082)"
   ]
  },
  {
   "cell_type": "code",
   "execution_count": 3,
   "id": "f451587a",
   "metadata": {},
   "outputs": [
    {
     "data": {
      "text/html": [
       "<style>\n",
       "                #myInput {\n",
       "                  background-position: 10px 12px; /* Position the search icon */\n",
       "                  background-repeat: no-repeat; /* Do not repeat the icon image */\n",
       "                  background-color: #bbb;\n",
       "                  width: 98%; /* Full-width */\n",
       "                  font-size: 14px; /* Increase font-size */\n",
       "                  padding: 12px 20px 12px 40px; /* Add some padding */\n",
       "                  border: 1px solid #ddd; /* Add a grey border */\n",
       "                  margin-bottom: 12px; /* Add some space below the input */\n",
       "                }\n",
       "\n",
       "                #myTable {\n",
       "                  border-collapse: collapse; /* Collapse borders */\n",
       "                  width: 100%; /* Full-width */\n",
       "                  border: 1px solid #ddd; /* Add a grey border */\n",
       "                  font-size: 14px; /* Increase font-size */\n",
       "                }\n",
       "\n",
       "                #myTable th, #myTable td {\n",
       "                  text-align: left; /* Left-align text */\n",
       "                  padding: 10px; /* Add padding */\n",
       "                }\n",
       "\n",
       "                #myTable tr {\n",
       "                  /* Add a bottom border to all table rows */\n",
       "                  border-bottom: 1px solid #ddd;\n",
       "                }\n",
       "\n",
       "                #myTable tr.header, #myTable tr:hover {\n",
       "                  /* Add a grey background color to the table header and on hover */\n",
       "                  background-color: #777;\n",
       "                }\n",
       "                </style>\n",
       "\n",
       "                <input type=\"text\" id=\"myInput\" onkeyup=\"myFunction()\" placeholder=\"Search for datasets..\">\n",
       "\n",
       "                <table id=\"myTable\">\n",
       "                  <tr class=\"header\">\n",
       "                    <th style=\"width:30px\">Idx</th>\n",
       "                    <th style=\"width:20%;\">Name</th>\n",
       "                    <th style=\"width:35%;\">Description</th>\n",
       "                    <th style=\"width:20%;\">Assets</th>\n",
       "                    <th style=\"width:300px;\">Id</th>\n",
       "                  </tr>\n",
       "                \n",
       "\n",
       "          <tr>\n",
       "            <td>[0]</td>\n",
       "            <td>Canada Trade Data - First few rows4</td>\n",
       "            <td>A collection of reports from Canada's statistics \n",
       "                    bureau about how much it thinks it imports and exports from other countries.</td>\n",
       "            <td>[\"Canada Trade\"] -> Tensor<br /><br /></td>\n",
       "            <td>9ad8be9c-ff04-4712-aaa1-4fe3e36ec17f</td>\n",
       "          </tr>\n",
       "        </table>\n",
       "\n",
       "        <script>\n",
       "        function myFunction() {\n",
       "          // Declare variables\n",
       "          var input, filter, table, tr, td, i, txtValue;\n",
       "          input = document.getElementById(\"myInput\");\n",
       "          filter = input.value.toUpperCase();\n",
       "          table = document.getElementById(\"myTable\");\n",
       "          tr = table.getElementsByTagName(\"tr\");\n",
       "\n",
       "          // Loop through all table rows, and hide those who don't match the search query\n",
       "          for (i = 0; i < tr.length; i++) {\n",
       "            name_td = tr[i].getElementsByTagName(\"td\")[1];\n",
       "            desc_td = tr[i].getElementsByTagName(\"td\")[2];\n",
       "            asset_td = tr[i].getElementsByTagName(\"td\")[3];\n",
       "            id_td = tr[i].getElementsByTagName(\"td\")[4];\n",
       "            if (name_td || desc_td || asset_td || id_td) {\n",
       "              name_txtValue = name_td.textContent || name_td.innerText;\n",
       "              desc_txtValue = desc_td.textContent || name_td.innerText;\n",
       "              asset_txtValue = asset_td.textContent || name_td.innerText;\n",
       "              id_txtValue = id_td.textContent || name_td.innerText;\n",
       "              name_bool = name_txtValue.toUpperCase().indexOf(filter) > -1;\n",
       "              desc_bool = desc_txtValue.toUpperCase().indexOf(filter) > -1;\n",
       "              asset_bool = asset_txtValue.toUpperCase().indexOf(filter) > -1;\n",
       "              id_bool = id_txtValue.toUpperCase().indexOf(filter) > -1;\n",
       "              if (name_bool || desc_bool || asset_bool || id_bool) {\n",
       "                tr[i].style.display = \"\";\n",
       "              } else {\n",
       "                tr[i].style.display = \"none\";\n",
       "              }\n",
       "            }\n",
       "          }\n",
       "        }\n",
       "        </script>"
      ],
      "text/plain": [
       "<syft.core.node.common.client_manager.dataset_api.DatasetRequestAPI at 0x7fddc291bb80>"
      ]
     },
     "execution_count": 3,
     "metadata": {},
     "output_type": "execute_result"
    }
   ],
   "source": [
    "ca.datasets"
   ]
  },
  {
   "cell_type": "code",
   "execution_count": 4,
   "id": "5642a57e",
   "metadata": {},
   "outputs": [
    {
     "data": {
      "text/html": [
       "<style>\n",
       "                #myInput {\n",
       "                  background-position: 10px 12px; /* Position the search icon */\n",
       "                  background-repeat: no-repeat; /* Do not repeat the icon image */\n",
       "                  background-color: #bbb;\n",
       "                  width: 98%; /* Full-width */\n",
       "                  font-size: 14px; /* Increase font-size */\n",
       "                  padding: 12px 20px 12px 40px; /* Add some padding */\n",
       "                  border: 1px solid #ddd; /* Add a grey border */\n",
       "                  margin-bottom: 12px; /* Add some space below the input */\n",
       "                }\n",
       "\n",
       "                #myTable {\n",
       "                  border-collapse: collapse; /* Collapse borders */\n",
       "                  width: 100%; /* Full-width */\n",
       "                  border: 1px solid #ddd; /* Add a grey border */\n",
       "                  font-size: 14px; /* Increase font-size */\n",
       "                }\n",
       "\n",
       "                #myTable th, #myTable td {\n",
       "                  text-align: left; /* Left-align text */\n",
       "                  padding: 10px; /* Add padding */\n",
       "                }\n",
       "\n",
       "                #myTable tr {\n",
       "                  /* Add a bottom border to all table rows */\n",
       "                  border-bottom: 1px solid #ddd;\n",
       "                }\n",
       "\n",
       "                #myTable tr.header, #myTable tr:hover {\n",
       "                  /* Add a grey background color to the table header and on hover */\n",
       "                  background-color: #777;\n",
       "                }\n",
       "                </style>\n",
       "\n",
       "                <input type=\"text\" id=\"myInput\" onkeyup=\"myFunction()\" placeholder=\"Search for datasets..\">\n",
       "\n",
       "                <table id=\"myTable\">\n",
       "                  <tr class=\"header\">\n",
       "                    <th style=\"width:30px\">Idx</th>\n",
       "                    <th style=\"width:20%;\">Name</th>\n",
       "                    <th style=\"width:35%;\">Description</th>\n",
       "                    <th style=\"width:20%;\">Assets</th>\n",
       "                    <th style=\"width:300px;\">Id</th>\n",
       "                  </tr>\n",
       "                \n",
       "\n",
       "          <tr>\n",
       "            <td>[0]</td>\n",
       "            <td>USA Trade Data - First few rows</td>\n",
       "            <td>A collection of reports from USA's statistics \n",
       "                    bureau about how much it thinks it imports and exports from other countries.</td>\n",
       "            <td>[\"USA Trade\"] -> Tensor<br /><br /></td>\n",
       "            <td>5a450b2c-ed5b-4e50-9f9f-b7f4e7c578b0</td>\n",
       "          </tr>\n",
       "        </table>\n",
       "\n",
       "        <script>\n",
       "        function myFunction() {\n",
       "          // Declare variables\n",
       "          var input, filter, table, tr, td, i, txtValue;\n",
       "          input = document.getElementById(\"myInput\");\n",
       "          filter = input.value.toUpperCase();\n",
       "          table = document.getElementById(\"myTable\");\n",
       "          tr = table.getElementsByTagName(\"tr\");\n",
       "\n",
       "          // Loop through all table rows, and hide those who don't match the search query\n",
       "          for (i = 0; i < tr.length; i++) {\n",
       "            name_td = tr[i].getElementsByTagName(\"td\")[1];\n",
       "            desc_td = tr[i].getElementsByTagName(\"td\")[2];\n",
       "            asset_td = tr[i].getElementsByTagName(\"td\")[3];\n",
       "            id_td = tr[i].getElementsByTagName(\"td\")[4];\n",
       "            if (name_td || desc_td || asset_td || id_td) {\n",
       "              name_txtValue = name_td.textContent || name_td.innerText;\n",
       "              desc_txtValue = desc_td.textContent || name_td.innerText;\n",
       "              asset_txtValue = asset_td.textContent || name_td.innerText;\n",
       "              id_txtValue = id_td.textContent || name_td.innerText;\n",
       "              name_bool = name_txtValue.toUpperCase().indexOf(filter) > -1;\n",
       "              desc_bool = desc_txtValue.toUpperCase().indexOf(filter) > -1;\n",
       "              asset_bool = asset_txtValue.toUpperCase().indexOf(filter) > -1;\n",
       "              id_bool = id_txtValue.toUpperCase().indexOf(filter) > -1;\n",
       "              if (name_bool || desc_bool || asset_bool || id_bool) {\n",
       "                tr[i].style.display = \"\";\n",
       "              } else {\n",
       "                tr[i].style.display = \"none\";\n",
       "              }\n",
       "            }\n",
       "          }\n",
       "        }\n",
       "        </script>"
      ],
      "text/plain": [
       "<syft.core.node.common.client_manager.dataset_api.DatasetRequestAPI at 0x7fddb179c760>"
      ]
     },
     "execution_count": 4,
     "metadata": {},
     "output_type": "execute_result"
    }
   ],
   "source": [
    "it.datasets"
   ]
  },
  {
   "cell_type": "code",
   "execution_count": 5,
   "id": "04f6749d-a513-4c39-b54c-a39b7af73ea2",
   "metadata": {},
   "outputs": [
    {
     "data": {
      "text/plain": [
       "26.114538184687547"
      ]
     },
     "execution_count": 5,
     "metadata": {},
     "output_type": "execute_result"
    }
   ],
   "source": [
    "ca.privacy_budget"
   ]
  },
  {
   "cell_type": "code",
   "execution_count": 6,
   "id": "e65df309-4619-4585-8c32-bc829352fe76",
   "metadata": {},
   "outputs": [
    {
     "data": {
      "text/plain": [
       "26.114538184687547"
      ]
     },
     "execution_count": 6,
     "metadata": {},
     "output_type": "execute_result"
    }
   ],
   "source": [
    "it.privacy_budget"
   ]
  },
  {
   "cell_type": "code",
   "execution_count": 7,
   "id": "217d5f06",
   "metadata": {},
   "outputs": [],
   "source": [
    "ca_data = ca.datasets[-1]['Canada Trade']\n",
    "it_data = it.datasets[-1]['USA Trade']"
   ]
  },
  {
   "cell_type": "code",
   "execution_count": 8,
   "id": "134cd35a-5c02-444a-8c56-5d078101b3df",
   "metadata": {},
   "outputs": [
    {
     "data": {
      "text/plain": [
       "<TensorWrappedSingleEntityPhiTensorPointer -> magical_fridman:72f85937e1144e48a8a47269ebad679e>"
      ]
     },
     "execution_count": 8,
     "metadata": {},
     "output_type": "execute_result"
    }
   ],
   "source": [
    "ca_data"
   ]
  },
  {
   "cell_type": "code",
   "execution_count": 9,
   "id": "b6680420-7142-487a-92ee-75cdbb610fc2",
   "metadata": {},
   "outputs": [
    {
     "data": {
      "text/plain": [
       "<TensorWrappedSingleEntityPhiTensorPointer -> laughing_pearl:292cd3deadd34544a2955b7a1facb8fc>"
      ]
     },
     "execution_count": 9,
     "metadata": {},
     "output_type": "execute_result"
    }
   ],
   "source": [
    "it_data"
   ]
  },
  {
   "cell_type": "code",
   "execution_count": 10,
   "id": "4ad83994-3789-4b77-a0e3-ef31e9d373d3",
   "metadata": {},
   "outputs": [],
   "source": [
    "# a = ca_data + it_data"
   ]
  },
  {
   "cell_type": "code",
   "execution_count": 11,
   "id": "1b88f9ce-b7c2-41fe-8542-c468bf253d56",
   "metadata": {},
   "outputs": [],
   "source": [
    "# result = a.publish(sigma=3)"
   ]
  },
  {
   "cell_type": "code",
   "execution_count": 12,
   "id": "80ba2cd2-de97-4948-9bf6-7e13adb5f40a",
   "metadata": {},
   "outputs": [],
   "source": [
    "# result.get()"
   ]
  },
  {
   "cell_type": "code",
   "execution_count": 13,
   "id": "4326bfea-7713-447a-880a-0ee3aa05dac8",
   "metadata": {},
   "outputs": [
    {
     "name": "stdout",
     "output_type": "stream",
     "text": [
      "Successfully registered! Logging in...\n",
      "Connecting to http://localhost:8081...Proxy Client already User Register Incorrect email or password\n",
      "Successfully registered! Logging in...\n",
      "Connecting to http://localhost:8082...Proxy Client already User Register Incorrect email or password\n",
      "Reeeeemote ring_size 4294967296\n",
      "/Users/areopagus/Laboratory/PySyft/packages/syft/src/syft/ast/klass.py:__getattribute__:903\n",
      "Reeeeemote ring_size 4294967296\n",
      "/Users/areopagus/Laboratory/PySyft/packages/syft/src/syft/ast/klass.py:__getattribute__:903\n",
      "Reeeeemote ring_size 4294967296\n",
      "/Users/areopagus/Laboratory/PySyft/packages/syft/src/syft/ast/klass.py:__getattribute__:903\n",
      "Reeeeemote ring_size 4294967296\n",
      "/Users/areopagus/Laboratory/PySyft/packages/syft/src/syft/ast/klass.py:__getattribute__:903\n",
      "a_rand Tensor(child=[-2035890514  -629451414 -1309112539   738479959  -140048212 -1454229801\n",
      "  1424789742  -953276191  1063716382 -1874369528])\n",
      "b_rand Tensor(child=[ 1711055839  2103877453 -1969329217   914395174 -2139335583  1167451883\n",
      "  -657062863  -525401020 -1483845494 -1097244645])\n",
      "c_val Tensor(child=[-1257251950   459376354    62868379   -87771414  -663570132   702579037\n",
      "  -360745586  1924489156  1444326444 -1244492584])\n",
      "Triple [[[ShareTensor(child=[ 1326924713 -1944429948 -2022245915 -1120932658  1687261662 -1953878765\n",
      "   964542092    23684312    16933825  1386466117]), ShareTensor(child=[-1971978312 -1146534770  1216485245  1560962375 -1928035247 -1038720671\n",
      " -1782231488  -594918512   766621713    70372859]), ShareTensor(child=[-1452385467  1866284480  -826213949  1987772764  1068593962   495868308\n",
      "  1801943750   471520453 -1885272921  2095790018])]], [[ShareTensor(child=[  932152069  1314978534   713133376  1859412617 -1827309874   499648964\n",
      "   460247650  -976960503  1046782557  1034131651]), ShareTensor(child=[ -611933145 -1044555073  1109152834  -646567201  -211300336 -2088794742\n",
      "  1125168625    69517492  2044500089 -1167617504]), ShareTensor(child=[  195133517 -1406908126   889082328 -2075544178 -1732164094   206710729\n",
      "  2132277960  1452968703  -965367931   954684694])]]]\n",
      "Primitves generated [[[ShareTensor(child=[ 1326924713 -1944429948 -2022245915 -1120932658  1687261662 -1953878765\n",
      "   964542092    23684312    16933825  1386466117]), ShareTensor(child=[-1971978312 -1146534770  1216485245  1560962375 -1928035247 -1038720671\n",
      " -1782231488  -594918512   766621713    70372859]), ShareTensor(child=[-1452385467  1866284480  -826213949  1987772764  1068593962   495868308\n",
      "  1801943750   471520453 -1885272921  2095790018])]], [[ShareTensor(child=[  932152069  1314978534   713133376  1859412617 -1827309874   499648964\n",
      "   460247650  -976960503  1046782557  1034131651]), ShareTensor(child=[ -611933145 -1044555073  1109152834  -646567201  -211300336 -2088794742\n",
      "  1125168625    69517492  2044500089 -1167617504]), ShareTensor(child=[  195133517 -1406908126   889082328 -2075544178 -1732164094   206710729\n",
      "  2132277960  1452968703  -965367931   954684694])]]]\n"
     ]
    }
   ],
   "source": [
    "b = ca_data > it_data"
   ]
  },
  {
   "cell_type": "code",
   "execution_count": 14,
   "id": "7c1610c6-123d-4b5e-8eb5-591c3ec11ba4",
   "metadata": {},
   "outputs": [],
   "source": [
    "public_result = b.publish(sigma=2)"
   ]
  },
  {
   "cell_type": "code",
   "execution_count": 15,
   "id": "4fb736ec-0cab-47ef-bd38-9e0964e7ee82",
   "metadata": {},
   "outputs": [
    {
     "data": {
      "text/plain": [
       "array([-2, -2, -2,  3,  0, -1,  2, -1,  1,  4], dtype=int32)"
      ]
     },
     "execution_count": 15,
     "metadata": {},
     "output_type": "execute_result"
    }
   ],
   "source": [
    "public_result.get()"
   ]
  },
  {
   "cell_type": "code",
   "execution_count": null,
   "id": "2aa03396-dbf6-4486-b75e-026d32355f0e",
   "metadata": {},
   "outputs": [],
   "source": []
  },
  {
   "cell_type": "code",
   "execution_count": 12,
   "id": "b310d4ea-d26c-4f5b-8ea9-45ba79b9877c",
   "metadata": {},
   "outputs": [],
   "source": [
    "from syft.core.tensor.smpc.mpc_tensor import MPCTensor"
   ]
  },
  {
   "cell_type": "code",
   "execution_count": 13,
   "id": "2d8818bf-72b1-4a48-b272-7c673f310371",
   "metadata": {},
   "outputs": [],
   "source": [
    "self = ca_data\n",
    "other = it_data"
   ]
  },
  {
   "cell_type": "code",
   "execution_count": 15,
   "id": "32fa6cce-b357-43fd-be38-c82028966787",
   "metadata": {},
   "outputs": [],
   "source": [
    "parties = [self.client, other.client]\n",
    "self_mpc = MPCTensor(secret=self, shape=self.public_shape, parties=parties)\n",
    "other_mpc = MPCTensor(\n",
    "    secret=other, shape=other.public_shape, parties=parties\n",
    ")"
   ]
  },
  {
   "cell_type": "code",
   "execution_count": 16,
   "id": "2ac41122-97be-4a29-964c-b49ace08d261",
   "metadata": {},
   "outputs": [],
   "source": [
    "(\n",
    "    self_shrs,\n",
    "    other_shrs,\n",
    "    kwargs,\n",
    "    ring_size,\n",
    "    parties,\n",
    "    parties_info,\n",
    "    self_shape,\n",
    "    other_shape,\n",
    ") = MPCTensor.prepare_arguments_and_run_checks(self_mpc, other_mpc)"
   ]
  },
  {
   "cell_type": "code",
   "execution_count": 21,
   "id": "06367484-49c2-4b4e-9bb4-f5dbc77dab33",
   "metadata": {},
   "outputs": [],
   "source": [
    "out = self_shrs[0] + other_shrs[0]"
   ]
  },
  {
   "cell_type": "code",
   "execution_count": 22,
   "id": "400255f6-5375-48fd-9de6-833dfe9dde60",
   "metadata": {},
   "outputs": [],
   "source": [
    "out2 = self_shrs[1] + other_shrs[1]"
   ]
  },
  {
   "cell_type": "code",
   "execution_count": 28,
   "id": "baef6967-0571-42e7-99f1-2e747104f2e0",
   "metadata": {},
   "outputs": [],
   "source": [
    "# Step 6: Execute the SMPC operation\n",
    "# TODO: some complex hooking logic on ShareTensor means we're passing in 'a' twice\n",
    "res_shares = [a.__add__(b, **kwargs) for a, b in zip(self_shrs, other_shrs)]"
   ]
  },
  {
   "cell_type": "code",
   "execution_count": 12,
   "id": "ed33fca7-1933-4012-a623-1470e0d6f22f",
   "metadata": {},
   "outputs": [
    {
     "name": "stdout",
     "output_type": "stream",
     "text": [
      "A:<TensorPointer -> lucid_bostrom:2a873523174947d4837e2a816c83e2b2>\n",
      "B:<TensorPointer -> lucid_bostrom:c26bfa8936f948cd8829288b56e519d4>\n"
     ]
    }
   ],
   "source": [
    "result = ca_data + it_data"
   ]
  },
  {
   "cell_type": "code",
   "execution_count": 13,
   "id": "97c0f1a6-a4be-49ec-9657-3dcfb9993bd8",
   "metadata": {},
   "outputs": [],
   "source": []
  },
  {
   "cell_type": "code",
   "execution_count": 19,
   "id": "ee5696f4-d0cc-44ba-ae5d-c3d42c8f2642",
   "metadata": {},
   "outputs": [
    {
     "ename": "TypeError",
     "evalue": "block_with_timeout() got an unexpected keyword argument 'secs_per_poll'",
     "output_type": "error",
     "traceback": [
      "\u001b[0;31m---------------------------------------------------------------------------\u001b[0m",
      "\u001b[0;31mTypeError\u001b[0m                                 Traceback (most recent call last)",
      "\u001b[0;32m/var/folders/d5/5rsdwt8n28l9r0h_pjnp57nw0000gn/T/ipykernel_15907/1119293525.py\u001b[0m in \u001b[0;36m<module>\u001b[0;34m\u001b[0m\n\u001b[0;32m----> 1\u001b[0;31m \u001b[0mpublic_result\u001b[0m\u001b[0;34m.\u001b[0m\u001b[0mblock_with_timeout\u001b[0m\u001b[0;34m(\u001b[0m\u001b[0;36m3\u001b[0m\u001b[0;34m)\u001b[0m\u001b[0;34m.\u001b[0m\u001b[0mget\u001b[0m\u001b[0;34m(\u001b[0m\u001b[0;34m)\u001b[0m\u001b[0;34m\u001b[0m\u001b[0;34m\u001b[0m\u001b[0m\n\u001b[0m",
      "\u001b[0;32m~/Laboratory/PySyft/packages/syft/src/syft/core/tensor/smpc/mpc_tensor.py\u001b[0m in \u001b[0;36mblock_with_timeout\u001b[0;34m(self, secs, secs_per_poll)\u001b[0m\n\u001b[1;32m    368\u001b[0m \u001b[0;34m\u001b[0m\u001b[0m\n\u001b[1;32m    369\u001b[0m         \u001b[0;32mfor\u001b[0m \u001b[0mshare\u001b[0m \u001b[0;32min\u001b[0m \u001b[0mself\u001b[0m\u001b[0;34m.\u001b[0m\u001b[0mchild\u001b[0m\u001b[0;34m:\u001b[0m\u001b[0;34m\u001b[0m\u001b[0;34m\u001b[0m\u001b[0m\n\u001b[0;32m--> 370\u001b[0;31m             \u001b[0mshare\u001b[0m\u001b[0;34m.\u001b[0m\u001b[0mblock_with_timeout\u001b[0m\u001b[0;34m(\u001b[0m\u001b[0msecs\u001b[0m\u001b[0;34m=\u001b[0m\u001b[0msecs\u001b[0m\u001b[0;34m,\u001b[0m \u001b[0msecs_per_poll\u001b[0m\u001b[0;34m=\u001b[0m\u001b[0msecs_per_poll\u001b[0m\u001b[0;34m)\u001b[0m\u001b[0;34m\u001b[0m\u001b[0;34m\u001b[0m\u001b[0m\n\u001b[0m\u001b[1;32m    371\u001b[0m \u001b[0;34m\u001b[0m\u001b[0m\n\u001b[1;32m    372\u001b[0m         \u001b[0;32mreturn\u001b[0m \u001b[0mself\u001b[0m\u001b[0;34m\u001b[0m\u001b[0;34m\u001b[0m\u001b[0m\n",
      "\u001b[0;31mTypeError\u001b[0m: block_with_timeout() got an unexpected keyword argument 'secs_per_poll'"
     ]
    }
   ],
   "source": [
    "public_result.block_with_timeout(3).get()"
   ]
  },
  {
   "cell_type": "code",
   "execution_count": 16,
   "id": "81986b66-83f3-4c2f-a73a-311d63f3f09e",
   "metadata": {},
   "outputs": [
    {
     "data": {
      "text/plain": [
       "41.592815128439895"
      ]
     },
     "execution_count": 16,
     "metadata": {},
     "output_type": "execute_result"
    }
   ],
   "source": [
    "ca.privacy_budget"
   ]
  },
  {
   "cell_type": "code",
   "execution_count": 17,
   "id": "d817dfa6-b13e-40cb-8e2c-2f94e61a1fef",
   "metadata": {},
   "outputs": [
    {
     "data": {
      "text/plain": [
       "41.592815128439895"
      ]
     },
     "execution_count": 17,
     "metadata": {},
     "output_type": "execute_result"
    }
   ],
   "source": [
    "it.privacy_budget"
   ]
  },
  {
   "cell_type": "code",
   "execution_count": 18,
   "id": "3f92aec5-7e27-41cf-b3b8-4bcac5a2b052",
   "metadata": {},
   "outputs": [
    {
     "data": {
      "text/plain": [
       "array([ 0,  1, -1, -2, -1, -3, -7, -2,  0, -2], dtype=int32)"
      ]
     },
     "execution_count": 18,
     "metadata": {},
     "output_type": "execute_result"
    }
   ],
   "source": [
    "public_result.get()"
   ]
  },
  {
   "cell_type": "code",
   "execution_count": null,
   "id": "e98ed911-31b6-49b0-8cb3-9f05621690e6",
   "metadata": {},
   "outputs": [],
   "source": []
  },
  {
   "cell_type": "code",
   "execution_count": null,
   "id": "a9e03b98-a03b-4f2b-a314-ba162d671a09",
   "metadata": {},
   "outputs": [],
   "source": []
  },
  {
   "cell_type": "code",
   "execution_count": null,
   "id": "f75435dd-0c35-4a63-a971-f6e3d858cc31",
   "metadata": {},
   "outputs": [],
   "source": []
  }
 ],
 "metadata": {
  "kernelspec": {
   "display_name": "Python 3 (ipykernel)",
   "language": "python",
   "name": "python3"
  },
  "language_info": {
   "codemirror_mode": {
    "name": "ipython",
    "version": 3
   },
   "file_extension": ".py",
   "mimetype": "text/x-python",
   "name": "python",
   "nbconvert_exporter": "python",
   "pygments_lexer": "ipython3",
   "version": "3.9.7"
  }
 },
 "nbformat": 4,
 "nbformat_minor": 5
}
