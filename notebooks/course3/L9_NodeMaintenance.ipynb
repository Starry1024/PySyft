{
 "cells": [
  {
   "cell_type": "markdown",
   "id": "b1150048-3fc9-48f1-b797-9ae118d2acbd",
   "metadata": {},
   "source": [
    "++++++++++++++++++++++++++++++++++++++\n",
    "======================================\n",
    "(Ishan & Phil)\n",
    "\n",
    "<b>To Do:</b>\n",
    "- Add images to this notebook of the UI to make it an easier walk-through for beginners.\n",
    "\n",
    "\n",
    "<b> To Verify: </b>\n",
    "- Will New DS account request be a concern for users of this course? (I don't think so)\n",
    "- What's the difference between accept/reject/approve/grant for requests?\n",
    "- How do you change permissions/roles of a user, outside of the UI?\n",
    "\n",
    "++++++++++++++++++++++++++++++++++++++\n",
    "======================================"
   ]
  },
  {
   "cell_type": "code",
   "execution_count": 1,
   "id": "ac1b13ac-b456-449c-825b-7d5629d62f0d",
   "metadata": {},
   "outputs": [],
   "source": [
    "import syft as sy\n",
    "import numpy as np\n",
    "from syft.core.adp.entity import Entity"
   ]
  },
  {
   "cell_type": "code",
   "execution_count": 2,
   "id": "9e7745e9-0cc0-417a-aa51-456ceba2e67a",
   "metadata": {},
   "outputs": [
    {
     "name": "stdout",
     "output_type": "stream",
     "text": [
      "Connecting to http://localhost:8081... done! \t Logging into adp... done!\n"
     ]
    }
   ],
   "source": [
    "domain_node = sy.login(email=\"info@openmined.org\", password=\"changethis\", port=8081)"
   ]
  },
  {
   "cell_type": "code",
   "execution_count": 6,
   "id": "46ba60e5-a5da-42fe-8447-d30e754082ae",
   "metadata": {},
   "outputs": [],
   "source": [
    "# See all the users\n",
    "domain_node.users\n",
    "\n",
    "# Create a new user\n",
    "domain_node.users.create(\n",
    "    **{\n",
    "        \"name\": \"Sheldon Cooper\",\n",
    "        \"email\": \"sheldon@caltech.edu\",\n",
    "        \"password\": \"bazinga\",\n",
    "        \"budget\": 100\n",
    "    }\n",
    ")\n",
    "\n",
    "# Change permissions of this new user"
   ]
  },
  {
   "cell_type": "markdown",
   "id": "ea1b2b82-1787-4c68-a8a5-1964c2bcf10b",
   "metadata": {
    "tags": []
   },
   "source": [
    "## Requests\n",
    "\n",
    "\n",
    "There are 3 major types of requests:\n",
    "- <b> Data Access</b> requests: Occurs when someone wanting to use the data on the node.\n",
    "- <b>Privacy budget upgrade</b> requests: Occurs when a DS needs an upgrade of the privacy budget allocated to them.\n",
    "- <b>New Data Scientist Account</b> requests: Occurs when a Data Scientist wishes to create an account on the domain node.\n",
    "\n",
    "With each type of request, they can either be accepted, rejected, approved or granted. Here's how to do each:"
   ]
  },
  {
   "cell_type": "code",
   "execution_count": 13,
   "id": "3636a5fa-5f9c-483c-a800-ecff0e18cf2e",
   "metadata": {},
   "outputs": [
    {
     "data": {
      "text/html": [
       "<div>\n",
       "<style scoped>\n",
       "    .dataframe tbody tr th:only-of-type {\n",
       "        vertical-align: middle;\n",
       "    }\n",
       "\n",
       "    .dataframe tbody tr th {\n",
       "        vertical-align: top;\n",
       "    }\n",
       "\n",
       "    .dataframe thead th {\n",
       "        text-align: right;\n",
       "    }\n",
       "</style>\n",
       "<table border=\"1\" class=\"dataframe\">\n",
       "  <thead>\n",
       "    <tr style=\"text-align: right;\">\n",
       "      <th></th>\n",
       "    </tr>\n",
       "  </thead>\n",
       "  <tbody>\n",
       "  </tbody>\n",
       "</table>\n",
       "</div>"
      ],
      "text/plain": [
       "[]"
      ]
     },
     "execution_count": 13,
     "metadata": {},
     "output_type": "execute_result"
    }
   ],
   "source": [
    "# See all the requests made to the domain node\n",
    "domain_node.requests"
   ]
  },
  {
   "cell_type": "code",
   "execution_count": null,
   "id": "1abf9fba-d2f2-4ece-9721-8d9e110d032c",
   "metadata": {},
   "outputs": [],
   "source": []
  },
  {
   "cell_type": "code",
   "execution_count": null,
   "id": "9a625a2c-6aad-4e39-8c7e-f99f7ab770f1",
   "metadata": {},
   "outputs": [],
   "source": [
    "# Accept the most recent request\n",
    "domain_node.requests[-1].accept()\n",
    "\n",
    "# Reject the first ever request\n",
    "domain_node.requests[0].reject()\n",
    "\n",
    "# Approve \n",
    "domain_node.requests[1].approve()\n",
    "\n",
    "# Grant\n",
    "domain_node.requests[2].grant()"
   ]
  },
  {
   "cell_type": "markdown",
   "id": "b5432f70-f755-48c5-8699-d0f7dddd42bc",
   "metadata": {},
   "source": [
    "It's important to note that after each grant or refusal, the request disappears from the object store and is no longer visible."
   ]
  },
  {
   "cell_type": "markdown",
   "id": "ac4292c6-9cc4-4e9d-8f1c-df2c2292fdba",
   "metadata": {},
   "source": [
    "## Privacy Budgets\n",
    "\n",
    "Here's how to do each:"
   ]
  },
  {
   "cell_type": "code",
   "execution_count": 14,
   "id": "a14bb268-735c-4d12-b403-82d047d4c5f2",
   "metadata": {},
   "outputs": [
    {
     "data": {
      "text/plain": [
       "55.55"
      ]
     },
     "execution_count": 14,
     "metadata": {},
     "output_type": "execute_result"
    }
   ],
   "source": [
    "# Check how much privacy budget remains\n",
    "domain_node.privacy_budget"
   ]
  },
  {
   "cell_type": "code",
   "execution_count": null,
   "id": "ec604336-a3aa-4d7c-a5fc-1bddb5a9f2c3",
   "metadata": {},
   "outputs": [],
   "source": []
  }
 ],
 "metadata": {
  "kernelspec": {
   "display_name": "Python 3 (ipykernel)",
   "language": "python",
   "name": "python3"
  },
  "language_info": {
   "codemirror_mode": {
    "name": "ipython",
    "version": 3
   },
   "file_extension": ".py",
   "mimetype": "text/x-python",
   "name": "python",
   "nbconvert_exporter": "python",
   "pygments_lexer": "ipython3",
   "version": "3.8.11"
  }
 },
 "nbformat": 4,
 "nbformat_minor": 5
}
